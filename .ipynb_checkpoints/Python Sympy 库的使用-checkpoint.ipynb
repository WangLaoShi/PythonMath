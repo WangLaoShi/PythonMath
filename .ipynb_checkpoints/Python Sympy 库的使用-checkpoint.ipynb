{
 "cells": [
  {
   "cell_type": "markdown",
   "id": "83f7490d",
   "metadata": {},
   "source": [
    "# sympy 介绍\n",
    "\n",
    "![oVZ7Ew](https://upiclw.oss-cn-beijing.aliyuncs.com/uPic/oVZ7Ew.jpg)\n",
    "\n",
    "sympy 是一个Python的科学计算库，用一套强大的符号计算体系完成诸如多项式求值、求极限、解方程、求积分、微分方程、级数展开、矩阵运算等等计算问题。虽然Matlab的类似科学计算能力也很强大，但是Python以其语法简单、易上手、异常丰富的三方库生态，个人认为可以更优雅地解决日常遇到的各种计算问题。\n",
    "\n",
    "感受一下它的魅力：\n",
    "\n",
    "什么是基于符号的计算（符号求解）？\n",
    "\n",
    "\n",
    "在高数学习中，甚至在工作中，都会面临计算基本微积分的问题。可能你会想，只要写个程序，运用极限法思想，全部都用双精度浮点数就能八九不离十的解出来。但是请看下面：\n"
   ]
  },
  {
   "cell_type": "code",
   "execution_count": 44,
   "id": "2d07a300",
   "metadata": {
    "ExecuteTime": {
     "end_time": "2022-03-29T14:45:35.412638Z",
     "start_time": "2022-03-29T14:45:35.404078Z"
    }
   },
   "outputs": [
    {
     "name": "stdout",
     "output_type": "stream",
     "text": [
      "2.0000000000000004\n",
      "2.0000000000000004\n",
      "2\n"
     ]
    }
   ],
   "source": [
    "import sympy,math\n",
    "import numpy as np\n",
    "print(math.sqrt(2)**2)\n",
    "print(np.sqrt(2)**2)\n",
    "print(sympy.sqrt(2)**2)"
   ]
  },
  {
   "cell_type": "markdown",
   "id": "c7cadea5",
   "metadata": {},
   "source": [
    "为什么用sympy的计算结果貌似要比math单纯浮点计算后误差小很多，或者说基本没有？\n",
    "\n",
    "因为sympy的计算本质是符号计算，也就是它先计算$\\sqrt x \\times \\sqrt x$，sympy先将其化简为x，再代入求值。\n",
    "\n",
    "sympy是python一个强大的数学符号运算第三方库，具体的功能请看下面操作\n",
    "\n",
    "[官网教程](https://docs.sympy.org/latest/tutorial/index.html)\n",
    "\n",
    "## 预备知识-Latex 输出\n",
    "\n",
    "[更多资料](https://docs.sympy.org/latest/tutorial/printing.html)\n"
   ]
  },
  {
   "cell_type": "code",
   "execution_count": 107,
   "id": "fe14a08a",
   "metadata": {
    "ExecuteTime": {
     "end_time": "2022-03-30T01:42:15.482559Z",
     "start_time": "2022-03-30T01:42:15.470001Z"
    }
   },
   "outputs": [
    {
     "data": {
      "text/latex": [
       "$\\displaystyle 2 \\sqrt{2}$"
      ],
      "text/plain": [
       "2⋅√2"
      ]
     },
     "execution_count": 107,
     "metadata": {},
     "output_type": "execute_result"
    }
   ],
   "source": [
    "init_printing(use_latex=\"mathjax\")\n",
    "sqrt(8)"
   ]
  },
  {
   "cell_type": "code",
   "execution_count": 156,
   "id": "abcef952",
   "metadata": {
    "ExecuteTime": {
     "end_time": "2022-03-30T12:30:00.935232Z",
     "start_time": "2022-03-30T12:30:00.922375Z"
    }
   },
   "outputs": [
    {
     "name": "stdout",
     "output_type": "stream",
     "text": [
      "$$8 \\sqrt{2} \\mu^{\\frac{7}{2}}$$\n"
     ]
    }
   ],
   "source": [
    "from sympy.abc import x, y, mu, r, tau\n",
    "from __future__ import division\n",
    "from sympy import *\n",
    "x, y, z, t = symbols('x y z t')\n",
    "k, m, n = symbols('k m n', integer=True)\n",
    "f, g, h = symbols('f g h', cls=Function)\n",
    "\n",
    "print(latex((2*mu)**Rational(7,2), mode='equation', itex=True))"
   ]
  },
  {
   "cell_type": "code",
   "execution_count": 160,
   "id": "55e197cd",
   "metadata": {
    "ExecuteTime": {
     "end_time": "2022-03-30T12:31:01.000274Z",
     "start_time": "2022-03-30T12:31:00.989574Z"
    }
   },
   "outputs": [
    {
     "data": {
      "text/plain": [
       "'$$8 \\\\sqrt{2} \\\\mu^{\\\\frac{7}{2}}$$'"
      ]
     },
     "execution_count": 160,
     "metadata": {},
     "output_type": "execute_result"
    }
   ],
   "source": [
    "latex((2*mu)**Rational(7,2), mode='equation', itex=True)"
   ]
  },
  {
   "cell_type": "markdown",
   "id": "1c3c2bce",
   "metadata": {},
   "source": [
    "$$8 \\sqrt{2} \\mu^{\\frac{7}{2}}$$"
   ]
  },
  {
   "cell_type": "markdown",
   "id": "6305bc27",
   "metadata": {},
   "source": [
    "在sympy里进行符号运算之前，必须先定义sympy的符号，这样sympy才能识别该符号。\n",
    "\n",
    ".init_printing(use_latex=True)开启时，在jupyter运行时，输出的是LaTeX的格式\n",
    "\n",
    "使用：latex()函数，同样返回LaTeX的格式。\n",
    "\n",
    "\n",
    "符号的初始化分为两种形式：\n",
    "\n",
    "单个符号的初始化：x = sympy.Symbol('x')\n",
    "\n",
    "多个符号的初始化：x,y=sympy.symbol(\"x y\")\n"
   ]
  },
  {
   "cell_type": "code",
   "execution_count": 109,
   "id": "28ae066a",
   "metadata": {
    "ExecuteTime": {
     "end_time": "2022-03-30T01:42:26.752488Z",
     "start_time": "2022-03-30T01:42:26.744557Z"
    }
   },
   "outputs": [
    {
     "name": "stdout",
     "output_type": "stream",
     "text": [
      "x: <class 'sympy.core.symbol.Symbol'>\n",
      "y: <class 'sympy.core.symbol.Symbol'>\n",
      "x**2 + y + z\n",
      "x^{2} + y + z\n"
     ]
    }
   ],
   "source": [
    "import sympy as sy\n",
    "\n",
    "# 符号化变量\n",
    "x = sy.Symbol('x')\n",
    "y, z = sy.symbols('y z')\n",
    "\n",
    "# 输出设置\n",
    "sy.init_printing(use_latex=True)\n",
    "\n",
    "# 输出结果\n",
    "print(\"x:\", type(x))\n",
    "print(\"y:\", type(y))\n",
    "print(x**2+y+z)\n",
    "print(sy.latex(x**2+y+z))"
   ]
  },
  {
   "cell_type": "markdown",
   "id": "e94a5818",
   "metadata": {},
   "source": [
    "## 预备知识-替换符号 subs\n",
    "\n",
    "subs是Substitution的简称，也就是替换，其有两个作用：\n",
    "\n",
    "语法是：expr.sub(old,new)\n",
    "\n",
    "数值替换，用数值替换符号，进行带入计算。\n",
    "符号替换，用一些符号替换符号。"
   ]
  },
  {
   "cell_type": "code",
   "execution_count": 110,
   "id": "3a6f6e40",
   "metadata": {
    "ExecuteTime": {
     "end_time": "2022-03-30T01:54:55.196103Z",
     "start_time": "2022-03-30T01:54:55.186185Z"
    },
    "scrolled": true
   },
   "outputs": [
    {
     "name": "stdout",
     "output_type": "stream",
     "text": [
      "原式： x**2 + 1\n",
      "数值计算的结果： 5\n",
      "符号替换的结果： (y + z)**2 + 1\n"
     ]
    }
   ],
   "source": [
    "from sympy import *\n",
    "\n",
    "# 符号化变量\n",
    "x, y, z = symbols('x y z')\n",
    "\n",
    "expr = x**2+1\n",
    "\n",
    "# 数值替换\n",
    "result = expr.subs(x, 2)\n",
    "print(\"原式：\", expr)\n",
    "print(\"数值计算的结果：\", result)\n",
    "\n",
    "# 符号替换\n",
    "new_expr = expr.subs(x, y+z)\n",
    "print(\"符号替换的结果：\", new_expr)"
   ]
  },
  {
   "cell_type": "markdown",
   "id": "164b030e",
   "metadata": {},
   "source": [
    "（1）是否改变原表达式\n",
    "subs()函数不改变原表达式，并且返回一个修改的表达式。\n",
    "\n",
    "（2）替换多个表达式\n",
    "当需要替换多个表达式时，可以在subs()里使用列表\n",
    "\n",
    "如：subs([(x,2), (y, 3), (z, 4)])\n",
    "\n",
    "表示：将x替换成2，y替换成3，z替换成4\n",
    "\n",
    "## 预备知识-字符串变为sympy的表达式-sympify\n",
    "\n",
    "不要混淆了sympify()函数与 simplify()函数，前者是转化，后者是简化。\n"
   ]
  },
  {
   "cell_type": "code",
   "execution_count": 111,
   "id": "033338c1",
   "metadata": {
    "ExecuteTime": {
     "end_time": "2022-03-30T01:59:45.961022Z",
     "start_time": "2022-03-30T01:59:45.923711Z"
    },
    "scrolled": true
   },
   "outputs": [
    {
     "name": "stdout",
     "output_type": "stream",
     "text": [
      "类型： <class 'sympy.core.add.Add'>\n",
      "表达式： x**2 + 2*y + z/2\n"
     ]
    }
   ],
   "source": [
    "from sympy import *\n",
    "\n",
    "string = \"x**2 + 2*y + z/2\"\n",
    "\n",
    "# 转化\n",
    "expr = sympify(string)\n",
    "\n",
    "print(\"类型：\", type(expr))\n",
    "print(\"表达式：\", expr)"
   ]
  },
  {
   "cell_type": "markdown",
   "id": "591efed9",
   "metadata": {},
   "source": [
    "## 预备知识-数值计算-evalf()\n",
    "\n",
    "相当于python自带的eval()函数，只是进行的是float浮点数运算。\n",
    "\n",
    "（1）对于数值表达式的运算\n",
    "\n",
    "直接使用.evalf()函数\n"
   ]
  },
  {
   "cell_type": "code",
   "execution_count": 112,
   "id": "fee024ab",
   "metadata": {
    "ExecuteTime": {
     "end_time": "2022-03-30T02:01:46.911094Z",
     "start_time": "2022-03-30T02:01:46.899359Z"
    }
   },
   "outputs": [
    {
     "name": "stdout",
     "output_type": "stream",
     "text": [
      "2.82842712474619\n"
     ]
    }
   ],
   "source": [
    "from sympy import *\n",
    "\n",
    "expr = sqrt(8)\n",
    "\n",
    "# 进行计算\n",
    "result = expr.evalf()\n",
    "\n",
    "print(result)"
   ]
  },
  {
   "cell_type": "markdown",
   "id": "e85ceed0",
   "metadata": {},
   "source": [
    "（2）对于符号表达式的运算\n",
    "\n",
    "对于表达式常用的是:\n",
    "\n",
    ".evalf(subs={x: 2.4})"
   ]
  },
  {
   "cell_type": "code",
   "execution_count": 113,
   "id": "d4078c4d",
   "metadata": {
    "ExecuteTime": {
     "end_time": "2022-03-30T02:02:45.069798Z",
     "start_time": "2022-03-30T02:02:45.051902Z"
    }
   },
   "outputs": [
    {
     "name": "stdout",
     "output_type": "stream",
     "text": [
      "7.00000000000000\n"
     ]
    }
   ],
   "source": [
    "from sympy import *\n",
    "\n",
    "# 符号化\n",
    "x = Symbol('x')\n",
    "\n",
    "# 进行计算\n",
    "expr = x**2+3\n",
    "result = expr.evalf(subs={x: 2})\n",
    "\n",
    "print(result)"
   ]
  },
  {
   "cell_type": "markdown",
   "id": "536ebec3",
   "metadata": {},
   "source": [
    "## 预备知识-自定义表达式-lambdify（）\n",
    "\n",
    "该函数有点类似于lambda（）,用于自己构造一个函数表达"
   ]
  },
  {
   "cell_type": "code",
   "execution_count": 114,
   "id": "fc908e56",
   "metadata": {
    "ExecuteTime": {
     "end_time": "2022-03-30T02:04:36.049406Z",
     "start_time": "2022-03-30T02:04:35.953422Z"
    }
   },
   "outputs": [
    {
     "name": "stdout",
     "output_type": "stream",
     "text": [
      "[ 0  1  4  9 16 25 36 49 64 81]\n"
     ]
    }
   ],
   "source": [
    "from sympy import *\n",
    "import numpy as np\n",
    "\n",
    "x = Symbol('x')\n",
    "\n",
    "a = np.arange(10)\n",
    "\n",
    "expr = x**2\n",
    "\n",
    "# 构造自己的函数\n",
    "f = lambdify(x, expr, \"numpy\")\n",
    "\n",
    "print(f(a))"
   ]
  },
  {
   "cell_type": "markdown",
   "id": "62226cd6",
   "metadata": {},
   "source": [
    "## 表达式与表达式求值"
   ]
  },
  {
   "cell_type": "code",
   "execution_count": 43,
   "id": "8a0abcc7",
   "metadata": {
    "ExecuteTime": {
     "end_time": "2022-03-29T14:45:24.635324Z",
     "start_time": "2022-03-29T14:45:24.622005Z"
    }
   },
   "outputs": [
    {
     "name": "stdout",
     "output_type": "stream",
     "text": [
      "34.0000000000000\n"
     ]
    }
   ],
   "source": [
    "#导入sympy\n",
    "from sympy import *\n",
    "#--------多项式求解--------\n",
    "#定义变量\n",
    "x=sympy.Symbol('x')\n",
    "fx=5*x+4\n",
    "#使用evalf函数传值\n",
    "y1=fx.evalf(subs={x:6})\n",
    "print(y1)"
   ]
  },
  {
   "cell_type": "code",
   "execution_count": 16,
   "id": "eff09973",
   "metadata": {
    "ExecuteTime": {
     "end_time": "2022-03-29T14:05:21.984083Z",
     "start_time": "2022-03-29T14:05:21.972404Z"
    }
   },
   "outputs": [
    {
     "name": "stdout",
     "output_type": "stream",
     "text": [
      "25.0000000000000\n"
     ]
    }
   ],
   "source": [
    "#多元表达式\n",
    "x=sympy.Symbol('x')\n",
    "y=sympy.Symbol('y')\n",
    "fx=x*x+y*y\n",
    "result=fx.evalf(subs={x:3,y:4})\n",
    "print(result)"
   ]
  },
  {
   "cell_type": "markdown",
   "id": "f44c943e",
   "metadata": {},
   "source": [
    "## 代值计算 subs"
   ]
  },
  {
   "cell_type": "code",
   "execution_count": 88,
   "id": "427af9ac",
   "metadata": {
    "ExecuteTime": {
     "end_time": "2022-03-30T01:29:25.799724Z",
     "start_time": "2022-03-30T01:29:25.792232Z"
    }
   },
   "outputs": [
    {
     "data": {
      "text/latex": [
       "$\\displaystyle x^{2} + 2 x + 1$"
      ],
      "text/plain": [
       " 2          \n",
       "x  + 2⋅x + 1"
      ]
     },
     "execution_count": 88,
     "metadata": {},
     "output_type": "execute_result"
    }
   ],
   "source": [
    "expr = x**2 + x*2 + 1\n",
    "expr"
   ]
  },
  {
   "cell_type": "code",
   "execution_count": 89,
   "id": "2d63d6f4",
   "metadata": {
    "ExecuteTime": {
     "end_time": "2022-03-30T01:29:37.862963Z",
     "start_time": "2022-03-30T01:29:37.849981Z"
    }
   },
   "outputs": [
    {
     "data": {
      "text/latex": [
       "$\\displaystyle 4$"
      ],
      "text/plain": [
       "4"
      ]
     },
     "execution_count": 89,
     "metadata": {},
     "output_type": "execute_result"
    }
   ],
   "source": [
    "expr.subs(x,1)"
   ]
  },
  {
   "cell_type": "code",
   "execution_count": 90,
   "id": "999ed7d1",
   "metadata": {
    "ExecuteTime": {
     "end_time": "2022-03-30T01:29:59.285728Z",
     "start_time": "2022-03-30T01:29:59.275667Z"
    }
   },
   "outputs": [
    {
     "data": {
      "text/latex": [
       "$\\displaystyle \\pi x^{2}$"
      ],
      "text/plain": [
       "   2\n",
       "π⋅x "
      ]
     },
     "execution_count": 90,
     "metadata": {},
     "output_type": "execute_result"
    }
   ],
   "source": [
    "expr = pi*x**2\n",
    "expr"
   ]
  },
  {
   "cell_type": "code",
   "execution_count": 92,
   "id": "2eeb4f43",
   "metadata": {
    "ExecuteTime": {
     "end_time": "2022-03-30T01:30:19.046923Z",
     "start_time": "2022-03-30T01:30:19.039917Z"
    }
   },
   "outputs": [
    {
     "data": {
      "text/latex": [
       "$\\displaystyle 4 \\pi$"
      ],
      "text/plain": [
       "4⋅π"
      ]
     },
     "execution_count": 92,
     "metadata": {},
     "output_type": "execute_result"
    }
   ],
   "source": [
    "expr.subs(x,2)"
   ]
  },
  {
   "cell_type": "code",
   "execution_count": 93,
   "id": "6e6f3daf",
   "metadata": {
    "ExecuteTime": {
     "end_time": "2022-03-30T01:30:42.726572Z",
     "start_time": "2022-03-30T01:30:42.715496Z"
    }
   },
   "outputs": [
    {
     "data": {
      "text/latex": [
       "$\\displaystyle 12.5663706143592$"
      ],
      "text/plain": [
       "12.5663706143592"
      ]
     },
     "execution_count": 93,
     "metadata": {},
     "output_type": "execute_result"
    }
   ],
   "source": [
    "N(expr.subs(x,2))"
   ]
  },
  {
   "cell_type": "markdown",
   "id": "28cfc33c",
   "metadata": {},
   "source": [
    "## 函数方程求解 solve"
   ]
  },
  {
   "cell_type": "markdown",
   "id": "3b944e4c",
   "metadata": {},
   "source": [
    "$$\n",
    "f(x)=\\left\\{\\begin{array}{r}\n",
    "2 x-y+z=10 \\\\\n",
    "3 x+2 y-z=16 \\\\\n",
    "x+6 y-z=28\n",
    "\\end{array}\\right.\n",
    "$$"
   ]
  },
  {
   "cell_type": "code",
   "execution_count": 46,
   "id": "63965b81",
   "metadata": {
    "ExecuteTime": {
     "end_time": "2022-03-29T14:47:49.508125Z",
     "start_time": "2022-03-29T14:47:49.483579Z"
    }
   },
   "outputs": [
    {
     "data": {
      "text/plain": [
       "{x: 46/11, y: 56/11, z: 74/11}"
      ]
     },
     "execution_count": 46,
     "metadata": {},
     "output_type": "execute_result"
    }
   ],
   "source": [
    "f1 = 2*x - y + z - 10\n",
    "f2 = 3*x + 2*y - z - 16\n",
    "f3 = x + 6*y - z - 28\n",
    "solve([f1,f2,f3])"
   ]
  },
  {
   "cell_type": "code",
   "execution_count": 17,
   "id": "60211ed1",
   "metadata": {
    "ExecuteTime": {
     "end_time": "2022-03-29T14:11:33.269944Z",
     "start_time": "2022-03-29T14:11:33.252686Z"
    }
   },
   "outputs": [
    {
     "name": "stdout",
     "output_type": "stream",
     "text": [
      "[-3]\n"
     ]
    }
   ],
   "source": [
    "#解方程 有限解\n",
    "#定义变量\n",
    "x=sympy.Symbol('x')\n",
    "y=sympy.Symbol('y')\n",
    "fx=x*3+9\n",
    "#可求解直接给出解向量\n",
    "print(sympy.solve(fx,x))"
   ]
  },
  {
   "cell_type": "code",
   "execution_count": 18,
   "id": "0e462fba",
   "metadata": {
    "ExecuteTime": {
     "end_time": "2022-03-29T14:12:03.224802Z",
     "start_time": "2022-03-29T14:12:03.156559Z"
    }
   },
   "outputs": [
    {
     "name": "stdout",
     "output_type": "stream",
     "text": [
      "[(-y**2/3, y)]\n"
     ]
    }
   ],
   "source": [
    "#解方程无穷多解\n",
    "#定义变量\n",
    "x=sympy.Symbol('x')\n",
    "y=sympy.Symbol('y')\n",
    "fx=x*3+y**2\n",
    "#得到是x与y的关系式，\n",
    "print(sympy.solve(fx,x,y))\n",
    " "
   ]
  },
  {
   "cell_type": "code",
   "execution_count": 3,
   "id": "2d76d0f1",
   "metadata": {
    "ExecuteTime": {
     "end_time": "2022-03-29T12:02:46.718522Z",
     "start_time": "2022-03-29T12:02:46.695711Z"
    }
   },
   "outputs": [
    {
     "name": "stdout",
     "output_type": "stream",
     "text": [
      "sec1-解二元一次方程组\n",
      "{x: 2, y: -1}\n"
     ]
    }
   ],
   "source": [
    "#导入sympy\n",
    "from sympy import *\n",
    "\n",
    "#定义变量\n",
    "x = Symbol('x')\n",
    "y = Symbol('y')\n",
    "print('sec1-解二元一次方程组')\n",
    "# print(solve([x + 1 - y,-1 * x + 1 - y],[x,y]))\n",
    "print(solve([x+y-1,2*x+y-3],[x,y]))\n",
    "# print(solve([2*x-3*y+5,3*x+2*y-12],[x,y]))"
   ]
  },
  {
   "cell_type": "code",
   "execution_count": 19,
   "id": "29156030",
   "metadata": {
    "ExecuteTime": {
     "end_time": "2022-03-29T14:13:25.573334Z",
     "start_time": "2022-03-29T14:13:25.528098Z"
    }
   },
   "outputs": [
    {
     "data": {
      "text/plain": [
       "{x: -1, y: 4}"
      ]
     },
     "execution_count": 19,
     "metadata": {},
     "output_type": "execute_result"
    }
   ],
   "source": [
    "#解方程组\n",
    "#定义变量\n",
    "x=sympy.Symbol('x')\n",
    "y=sympy.Symbol('y')\n",
    "f1=x+y-3\n",
    "f2=x-y+5\n",
    "sympy.solve([f1,f2],[x,y])"
   ]
  },
  {
   "cell_type": "code",
   "execution_count": 4,
   "id": "09e90645",
   "metadata": {
    "ExecuteTime": {
     "end_time": "2022-03-29T12:03:00.460598Z",
     "start_time": "2022-03-29T12:03:00.437673Z"
    }
   },
   "outputs": [
    {
     "name": "stdout",
     "output_type": "stream",
     "text": [
      "sec2-解一元二次方程\n",
      "[2, 3]\n"
     ]
    }
   ],
   "source": [
    "from sympy import *\n",
    "\n",
    "print('sec2-解一元二次方程')\n",
    "x=Symbol('x')\n",
    "print(solve(x**2-5*x+6))"
   ]
  },
  {
   "cell_type": "markdown",
   "id": "35614c9c",
   "metadata": {},
   "source": [
    "sympy不仅在符号运算方面强大，在解方程方面也是很强大。\n",
    "\n",
    "本章节学习对应官网的：Solvers\n",
    "\n",
    "[官方教程](https://docs.sympy.org/latest/tutorial/solvers.html)\n",
    "\n",
    "https://docs.sympy.org/latest/tutorial/solvers.html"
   ]
  },
  {
   "cell_type": "markdown",
   "id": "dcbf1b76",
   "metadata": {},
   "source": [
    "### 求解多元一次方程-solve()\n",
    "\n",
    "解多元一次方程可以使用solve()，在sympy里，等式是用Eq()来表示，\n",
    "\n",
    "例如：$2x = 4$  表示为：Eq(x*2, 4)\n"
   ]
  },
  {
   "cell_type": "code",
   "execution_count": 171,
   "id": "f9d8e5ef",
   "metadata": {
    "ExecuteTime": {
     "end_time": "2022-03-30T13:08:58.866083Z",
     "start_time": "2022-03-30T13:08:58.846286Z"
    },
    "scrolled": true
   },
   "outputs": [
    {
     "name": "stdout",
     "output_type": "stream",
     "text": [
      "r1: [2]\n",
      "r1_eq: [2]\n",
      "r2: {x: 2, y: 1}\n",
      "r3: {x: 1, y: 2, z: -1}\n"
     ]
    }
   ],
   "source": [
    "\"\"\"\n",
    " 解下列二元一次方程\n",
    "  2x-y=3\n",
    "  3x+y=7\n",
    "\"\"\"\n",
    "# 导入模块\n",
    "from sympy import *\n",
    "\n",
    "# 将变量符号化\n",
    "x = Symbol('x')\n",
    "y = Symbol('y')\n",
    "z = Symbol('z')\n",
    "\n",
    "# 解一元一次方程\n",
    "expr1 = x*2-4\n",
    "r1 = solve(expr1, x)\n",
    "r1_eq = solve(Eq(x*2, 4), x)\n",
    "print(\"r1:\", r1)\n",
    "print(\"r1_eq:\", r1_eq)\n",
    "\n",
    "# 解二元一次方程\n",
    "expr2 = [2*x-y-3, 3*x+y-7]\n",
    "r2 = solve(expr2, [x, y])\n",
    "print(\"r2:\", r2)\n",
    "\n",
    "# 解三元一次方程\n",
    "f1 = x+y+z-2\n",
    "f2 = 2*x-y+z+1\n",
    "f3 = x+2*y+2*z-3\n",
    "r3 = solve([f1, f2, f3], [x, y, z])\n",
    "print(\"r3:\", r3)"
   ]
  },
  {
   "cell_type": "markdown",
   "id": "38630406",
   "metadata": {},
   "source": [
    "### 解线性方程组-linsolve（）\n",
    "\n",
    "在sympy中，解线性方程组有三种形式：\n",
    "\n",
    "1.  默认等式为0的形式：linsolve(eq, [x, y, z])\n",
    "2.  矩阵形式：linsolve(eq, [x, y, z])\n",
    "3.  增广矩阵形式：linsolve(A，b, x, y, z)"
   ]
  },
  {
   "cell_type": "code",
   "execution_count": 172,
   "id": "e98ba005",
   "metadata": {
    "ExecuteTime": {
     "end_time": "2022-03-30T13:10:02.459415Z",
     "start_time": "2022-03-30T13:10:02.442683Z"
    },
    "scrolled": false
   },
   "outputs": [
    {
     "name": "stdout",
     "output_type": "stream",
     "text": [
      "======默认等式为0的形式 =======\n",
      "{(1, 2, -1)}\n",
      "\\left\\{\\left( 1, \\  2, \\  -1\\right)\\right\\}\n",
      "======矩阵形式 =======\n",
      "{(1, 2, -1)}\n",
      "\\left\\{\\left( 1, \\  2, \\  -1\\right)\\right\\}\n",
      "======增广矩阵形式 =======\n",
      "{(1, 2, -1)}\n",
      "\\left\\{\\left( 1, \\  2, \\  -1\\right)\\right\\}\n"
     ]
    }
   ],
   "source": [
    "\"\"\"\n",
    "    x+y+z-2=0\n",
    "    2x-y+z+1=0\n",
    "    x+2y+2z-3=0\n",
    "\"\"\"\n",
    "from sympy import *\n",
    "\n",
    "\n",
    "x, y, z = symbols(\"x y z\")\n",
    "\n",
    "# 默认等式为0的形式\n",
    "print(\"======默认等式为0的形式 =======\")\n",
    "eq = [x+y+z-2, 2*x-y+z+1, x+2*y+2*z-3]\n",
    "result = linsolve(eq, [x, y, z])\n",
    "print(result)\n",
    "print(latex(result))\n",
    "\n",
    "# 矩阵形式\n",
    "print(\"======矩阵形式 =======\")\n",
    "eq = Matrix(([1, 1, 1, 2], [2, -1, 1, -1], [1, 2, 2, 3]))\n",
    "result = linsolve(eq, [x, y, z])\n",
    "print(result)\n",
    "print(latex(result))\n",
    "\n",
    "# 增广矩阵形式\n",
    "print(\"======增广矩阵形式 =======\")\n",
    "A = Matrix([[1, 1, 1], [2, -1, 1], [1, 2, 2]])\n",
    "b = Matrix([[2], [-1], [3]])\n",
    "system = A, b\n",
    "result = linsolve(system, x, y, z)\n",
    "print(result)\n",
    "print(latex(result))"
   ]
  },
  {
   "cell_type": "markdown",
   "id": "7f5517cf",
   "metadata": {},
   "source": [
    "### 解非线性方程组-nonlinsolve（）\n",
    "\n",
    "nonlinsolve()用于求解非线性方程组，例如二次方，三角函数，，，等方程\n"
   ]
  },
  {
   "cell_type": "code",
   "execution_count": 173,
   "id": "7a343485",
   "metadata": {
    "ExecuteTime": {
     "end_time": "2022-03-30T13:11:34.036402Z",
     "start_time": "2022-03-30T13:11:33.535215Z"
    }
   },
   "outputs": [
    {
     "name": "stdout",
     "output_type": "stream",
     "text": [
      "{(-1, 1), (-1, -1/2 - sqrt(3)*I/2), (-1, -1/2 + sqrt(3)*I/2), (1 - I, -1 + I), (1 + I, -1 - I), (1 - I*sqrt(12 - 6*sqrt(3))/2 - I*sqrt(4 - 2*sqrt(3))/2, 1/2 + sqrt(3)/2 + sqrt(2)*sqrt(-2 + sqrt(3))/2), (1 - sqrt(-12 - 6*sqrt(3))/2 + sqrt(-4 - 2*sqrt(3))/2, -sqrt(3)/2 + 1/2 - sqrt(-8 + (1 - sqrt(3))**2)/2), (1 - sqrt(-4 - 2*sqrt(3))/2 + sqrt(-12 - 6*sqrt(3))/2, -sqrt(3)/2 + 1/2 + sqrt(-8 + (1 - sqrt(3))**2)/2), (1 + sqrt(-4 + 2*sqrt(3))/2 + sqrt(-12 + 6*sqrt(3))/2, 1/2 + sqrt(3)/2 - sqrt(2)*sqrt(-2 + sqrt(3))/2)}\n",
      "\\left\\{\\left( -1, \\  1\\right), \\left( -1, \\  - \\frac{1}{2} - \\frac{\\sqrt{3} i}{2}\\right), \\left( -1, \\  - \\frac{1}{2} + \\frac{\\sqrt{3} i}{2}\\right), \\left( 1 - i, \\  -1 + i\\right), \\left( 1 + i, \\  -1 - i\\right), \\left( 1 - \\frac{i \\sqrt{12 - 6 \\sqrt{3}}}{2} - \\frac{i \\sqrt{4 - 2 \\sqrt{3}}}{2}, \\  \\frac{1}{2} + \\frac{\\sqrt{3}}{2} + \\frac{\\sqrt{2} \\sqrt{-2 + \\sqrt{3}}}{2}\\right), \\left( 1 - \\frac{\\sqrt{-12 - 6 \\sqrt{3}}}{2} + \\frac{\\sqrt{-4 - 2 \\sqrt{3}}}{2}, \\  - \\frac{\\sqrt{3}}{2} + \\frac{1}{2} - \\frac{\\sqrt{-8 + \\left(1 - \\sqrt{3}\\right)^{2}}}{2}\\right), \\left( 1 - \\frac{\\sqrt{-4 - 2 \\sqrt{3}}}{2} + \\frac{\\sqrt{-12 - 6 \\sqrt{3}}}{2}, \\  - \\frac{\\sqrt{3}}{2} + \\frac{1}{2} + \\frac{\\sqrt{-8 + \\left(1 - \\sqrt{3}\\right)^{2}}}{2}\\right), \\left( 1 + \\frac{\\sqrt{-4 + 2 \\sqrt{3}}}{2} + \\frac{\\sqrt{-12 + 6 \\sqrt{3}}}{2}, \\  \\frac{1}{2} + \\frac{\\sqrt{3}}{2} - \\frac{\\sqrt{2} \\sqrt{-2 + \\sqrt{3}}}{2}\\right)\\right\\}\n"
     ]
    }
   ],
   "source": [
    "\"\"\"\n",
    "    x**2+y**2-2=0\n",
    "    x**3+y**3=0\n",
    "\"\"\"\n",
    "\n",
    "import sympy as sy\n",
    "x, y = sy.symbols(\"x y\")\n",
    "\n",
    "eq = [x**2+y**3-2, x**3+y**3]\n",
    "result = sy.nonlinsolve(eq, [x, y])\n",
    "print(result)\n",
    "print(sy.latex(result))"
   ]
  },
  {
   "cell_type": "markdown",
   "id": "14da8fe2",
   "metadata": {},
   "source": [
    "![BzNmtg](https://upiclw.oss-cn-beijing.aliyuncs.com/uPic/BzNmtg.jpg)"
   ]
  },
  {
   "cell_type": "markdown",
   "id": "8af2e0ee",
   "metadata": {},
   "source": [
    "### 解微分方程 dsolve"
   ]
  },
  {
   "cell_type": "markdown",
   "id": "f0d6adff",
   "metadata": {},
   "source": [
    "![vxwQEO](https://upiclw.oss-cn-beijing.aliyuncs.com/uPic/vxwQEO.png)"
   ]
  },
  {
   "cell_type": "code",
   "execution_count": 85,
   "id": "fa206f2b",
   "metadata": {
    "ExecuteTime": {
     "end_time": "2022-03-30T01:24:43.673324Z",
     "start_time": "2022-03-30T01:24:43.668191Z"
    }
   },
   "outputs": [],
   "source": [
    "import sympy\n",
    "f,x = sympy.symbols(\"f x\")"
   ]
  },
  {
   "cell_type": "code",
   "execution_count": 86,
   "id": "01df526f",
   "metadata": {
    "ExecuteTime": {
     "end_time": "2022-03-30T01:24:45.948770Z",
     "start_time": "2022-03-30T01:24:45.944338Z"
    }
   },
   "outputs": [],
   "source": [
    "# x = sympy.symbols(\"x\", real=True) # 定义符号x 为实数 "
   ]
  },
  {
   "cell_type": "code",
   "execution_count": 87,
   "id": "b3db6c70",
   "metadata": {
    "ExecuteTime": {
     "end_time": "2022-03-30T01:24:46.938494Z",
     "start_time": "2022-03-30T01:24:46.924775Z"
    },
    "scrolled": true
   },
   "outputs": [
    {
     "ename": "TypeError",
     "evalue": "'Symbol' object is not callable",
     "output_type": "error",
     "traceback": [
      "\u001b[0;31m---------------------------------------------------------------------------\u001b[0m",
      "\u001b[0;31mTypeError\u001b[0m                                 Traceback (most recent call last)",
      "\u001b[0;32m/var/folders/9k/4mtrb_2d6v116pjr202p33g80000gn/T/ipykernel_6200/486881257.py\u001b[0m in \u001b[0;36m<module>\u001b[0;34m\u001b[0m\n\u001b[0;32m----> 1\u001b[0;31m \u001b[0meq1\u001b[0m \u001b[0;34m=\u001b[0m \u001b[0mdsolve\u001b[0m\u001b[0;34m(\u001b[0m\u001b[0mf\u001b[0m\u001b[0;34m(\u001b[0m\u001b[0mx\u001b[0m\u001b[0;34m)\u001b[0m\u001b[0;34m.\u001b[0m\u001b[0mdiff\u001b[0m\u001b[0;34m(\u001b[0m\u001b[0mx\u001b[0m\u001b[0;34m)\u001b[0m \u001b[0;34m+\u001b[0m \u001b[0mf\u001b[0m\u001b[0;34m(\u001b[0m\u001b[0mx\u001b[0m\u001b[0;34m)\u001b[0m\u001b[0;34m**\u001b[0m\u001b[0;36m2\u001b[0m \u001b[0;34m+\u001b[0m \u001b[0mf\u001b[0m\u001b[0;34m(\u001b[0m\u001b[0mx\u001b[0m\u001b[0;34m)\u001b[0m\u001b[0;34m,\u001b[0m \u001b[0mf\u001b[0m\u001b[0;34m(\u001b[0m\u001b[0mx\u001b[0m\u001b[0;34m)\u001b[0m\u001b[0;34m)\u001b[0m\u001b[0;34m\u001b[0m\u001b[0;34m\u001b[0m\u001b[0m\n\u001b[0m\u001b[1;32m      2\u001b[0m \u001b[0meq1\u001b[0m\u001b[0;34m\u001b[0m\u001b[0;34m\u001b[0m\u001b[0m\n",
      "\u001b[0;31mTypeError\u001b[0m: 'Symbol' object is not callable"
     ]
    }
   ],
   "source": [
    "eq1 = dsolve(f(x).diff(x) + f(x)**2 + f(x), f(x)) \n",
    "eq1"
   ]
  },
  {
   "cell_type": "markdown",
   "id": "aa90c57b",
   "metadata": {},
   "source": [
    "## 表达式简化 simplify\n",
    "\n",
    "### simplify 简化\n",
    "\n",
    "simplify()是尽可能的让表达式最简化，其最简化的形式是不定的。"
   ]
  },
  {
   "cell_type": "code",
   "execution_count": 98,
   "id": "8f6e9bbd",
   "metadata": {
    "ExecuteTime": {
     "end_time": "2022-03-30T01:34:37.788993Z",
     "start_time": "2022-03-30T01:34:37.778910Z"
    }
   },
   "outputs": [
    {
     "data": {
      "text/latex": [
       "$\\displaystyle \\frac{\\frac{7 x}{3} + 4}{x}$"
      ],
      "text/plain": [
       "7⋅x    \n",
       "─── + 4\n",
       " 3     \n",
       "───────\n",
       "   x   "
      ]
     },
     "execution_count": 98,
     "metadata": {},
     "output_type": "execute_result"
    }
   ],
   "source": [
    "expr = (2*x + Rational(1,3)*x + 4)/x\n",
    "expr"
   ]
  },
  {
   "cell_type": "code",
   "execution_count": 100,
   "id": "60ee8bc2",
   "metadata": {
    "ExecuteTime": {
     "end_time": "2022-03-30T01:35:01.628491Z",
     "start_time": "2022-03-30T01:35:01.606449Z"
    }
   },
   "outputs": [
    {
     "data": {
      "text/latex": [
       "$\\displaystyle \\frac{7}{3} + \\frac{4}{x}$"
      ],
      "text/plain": [
       "7   4\n",
       "─ + ─\n",
       "3   x"
      ]
     },
     "execution_count": 100,
     "metadata": {},
     "output_type": "execute_result"
    }
   ],
   "source": [
    "simplify(expr)"
   ]
  },
  {
   "cell_type": "code",
   "execution_count": 40,
   "id": "64dd3cca",
   "metadata": {
    "ExecuteTime": {
     "end_time": "2022-03-29T14:44:20.083876Z",
     "start_time": "2022-03-29T14:44:20.067824Z"
    }
   },
   "outputs": [
    {
     "data": {
      "text/latex": [
       "$\\displaystyle x - 1$"
      ],
      "text/plain": [
       "x - 1"
      ]
     },
     "execution_count": 40,
     "metadata": {},
     "output_type": "execute_result"
    }
   ],
   "source": [
    "#simplify() 普通的化简\n",
    "simplify((x**3 + x**2 - x - 1)/(x**2 + 2*x + 1))"
   ]
  },
  {
   "cell_type": "code",
   "execution_count": 45,
   "id": "61a22c8d",
   "metadata": {
    "ExecuteTime": {
     "end_time": "2022-03-29T14:46:14.665528Z",
     "start_time": "2022-03-29T14:46:14.640828Z"
    }
   },
   "outputs": [
    {
     "data": {
      "text/latex": [
       "$\\displaystyle 1.0 x^{2} + 2 x + 1$"
      ],
      "text/plain": [
       "1.0*x**2 + 2*x + 1"
      ]
     },
     "execution_count": 45,
     "metadata": {},
     "output_type": "execute_result"
    }
   ],
   "source": [
    "from sympy import *\n",
    "x,y,z,a,b,c = symbols('x,y,z,a,b,c')\n",
    "f = (2/3)*x**2 + (1/3)*x**2 + x + x + 1\n",
    "#simplify(f)\n",
    "f.simplify()\n"
   ]
  },
  {
   "cell_type": "code",
   "execution_count": 117,
   "id": "e7dac572",
   "metadata": {
    "ExecuteTime": {
     "end_time": "2022-03-30T02:06:53.940245Z",
     "start_time": "2022-03-30T02:06:53.903983Z"
    }
   },
   "outputs": [
    {
     "name": "stdout",
     "output_type": "stream",
     "text": [
      "sin(x)**2 + cos(x)**2  --->  1\n",
      "(x**3 + x**2 - x - 1)/(x**2 + 2*x + 1)  --->  x - 1\n"
     ]
    }
   ],
   "source": [
    "from sympy import *\n",
    "\n",
    "x = Symbol('x')\n",
    "\n",
    "expr1 = cos(x)**2+sin(x)**2\n",
    "\n",
    "expr2 = (x**3 + x**2 - x - 1)/(x**2 + 2*x + 1)\n",
    "\n",
    "# 简化表达式\n",
    "\n",
    "r1 = simplify(expr1)\n",
    "\n",
    "r2 = simplify(expr2)\n",
    "\n",
    "print(expr1,\" ---> \",r1)\n",
    "\n",
    "print(expr2,\" ---> \",r2)"
   ]
  },
  {
   "cell_type": "code",
   "execution_count": 118,
   "id": "29dba9b6",
   "metadata": {
    "ExecuteTime": {
     "end_time": "2022-03-30T02:07:40.654279Z",
     "start_time": "2022-03-30T02:07:40.633607Z"
    }
   },
   "outputs": [
    {
     "data": {
      "text/latex": [
       "$\\displaystyle \\sin^{2}{\\left(x \\right)} + \\cos^{2}{\\left(x \\right)}$"
      ],
      "text/plain": [
       "   2         2   \n",
       "sin (x) + cos (x)"
      ]
     },
     "execution_count": 118,
     "metadata": {},
     "output_type": "execute_result"
    }
   ],
   "source": [
    "init_printing(use_latex=\"mathjax\")\n",
    "expr1"
   ]
  },
  {
   "cell_type": "code",
   "execution_count": 119,
   "id": "c765ba18",
   "metadata": {
    "ExecuteTime": {
     "end_time": "2022-03-30T02:07:53.339369Z",
     "start_time": "2022-03-30T02:07:53.331774Z"
    }
   },
   "outputs": [
    {
     "data": {
      "text/latex": [
       "$\\displaystyle \\frac{x^{3} + x^{2} - x - 1}{x^{2} + 2 x + 1}$"
      ],
      "text/plain": [
       " 3    2        \n",
       "x  + x  - x - 1\n",
       "───────────────\n",
       "   2           \n",
       "  x  + 2⋅x + 1 "
      ]
     },
     "execution_count": 119,
     "metadata": {},
     "output_type": "execute_result"
    }
   ],
   "source": [
    "init_printing(use_latex=\"mathjax\")\n",
    "expr2"
   ]
  },
  {
   "cell_type": "markdown",
   "id": "4a3d27dc",
   "metadata": {},
   "source": [
    "### 三角形的简化-trigsimp()\n",
    "\n",
    "使用trigsimp()可以简化三角函数，反三角函数也可以。"
   ]
  },
  {
   "cell_type": "code",
   "execution_count": 41,
   "id": "64410db6",
   "metadata": {
    "ExecuteTime": {
     "end_time": "2022-03-29T14:44:21.870100Z",
     "start_time": "2022-03-29T14:44:21.820734Z"
    }
   },
   "outputs": [
    {
     "data": {
      "text/latex": [
       "$\\displaystyle \\tan{\\left(x \\right)}$"
      ],
      "text/plain": [
       "tan(x)"
      ]
     },
     "execution_count": 41,
     "metadata": {},
     "output_type": "execute_result"
    }
   ],
   "source": [
    "#trigsimp() 三角化简\n",
    "trigsimp(sin(x)/cos(x))"
   ]
  },
  {
   "cell_type": "code",
   "execution_count": null,
   "id": "20a9072b",
   "metadata": {
    "ExecuteTime": {
     "end_time": "2022-03-30T02:26:34.398690Z",
     "start_time": "2022-03-30T02:26:34.333417Z"
    }
   },
   "outputs": [],
   "source": [
    "from sympy import *\n",
    "\n",
    "init_printing(use_latex=True)\n",
    "\n",
    "x = Symbol('x')\n",
    "\n",
    "expr1 = sin(x)**2+cos(x)**2\n",
    "\n",
    "expr2 = sin(x)**4 - 2*cos(x)**2*sin(x)**2 + cos(x)**4\n",
    "\n",
    "# 进行三角形简化\n",
    "\n",
    "r1 = trigsimp(expr1)\n",
    "\n",
    "r2 = trigsimp(expr2)\n",
    "\n",
    "print(\"r1:\", r1)\n",
    "\n",
    "print(\"r2:\", r2)\n",
    "\n",
    "# r1的latex\n",
    "\n",
    "print(\"=\"*20)\n",
    "\n",
    "print(\"expr1-latex:\", latex(expr1))\n",
    "\n",
    "print(\"r1-latex:\", latex(r1))"
   ]
  },
  {
   "cell_type": "code",
   "execution_count": 136,
   "id": "2d66c542",
   "metadata": {
    "ExecuteTime": {
     "end_time": "2022-03-30T02:28:01.183532Z",
     "start_time": "2022-03-30T02:28:01.176266Z"
    }
   },
   "outputs": [
    {
     "data": {
      "text/plain": [
       "   2         2   \n",
       "sin (x) + cos (x)"
      ]
     },
     "execution_count": 136,
     "metadata": {},
     "output_type": "execute_result"
    }
   ],
   "source": [
    "expr1"
   ]
  },
  {
   "cell_type": "code",
   "execution_count": 135,
   "id": "305136e4",
   "metadata": {
    "ExecuteTime": {
     "end_time": "2022-03-30T02:27:51.723629Z",
     "start_time": "2022-03-30T02:27:51.716722Z"
    }
   },
   "outputs": [
    {
     "data": {
      "text/plain": [
       "1"
      ]
     },
     "execution_count": 135,
     "metadata": {},
     "output_type": "execute_result"
    }
   ],
   "source": [
    "r1"
   ]
  },
  {
   "cell_type": "code",
   "execution_count": 134,
   "id": "5e0982f0",
   "metadata": {
    "ExecuteTime": {
     "end_time": "2022-03-30T02:26:34.398690Z",
     "start_time": "2022-03-30T02:26:34.333417Z"
    }
   },
   "outputs": [
    {
     "name": "stdout",
     "output_type": "stream",
     "text": [
      "r1: 1\n",
      "r2: cos(4*x)/2 + 1/2\n",
      "====================\n",
      "expr1-latex: \\sin^{2}{\\left(x \\right)} + \\cos^{2}{\\left(x \\right)}\n",
      "r1-latex: 1\n",
      "====================\n",
      "expr2-latex: \\sin^{4}{\\left(x \\right)} - 2 \\sin^{2}{\\left(x \\right)} \\cos^{2}{\\left(x \\right)} + \\cos^{4}{\\left(x \\right)}\n",
      "r2-latex: \\frac{\\cos{\\left(4 x \\right)}}{2} + \\frac{1}{2}\n"
     ]
    }
   ],
   "source": [
    "# r2的latex\n",
    "\n",
    "print(\"=\"*20)\n",
    "\n",
    "print(\"expr2-latex:\", latex(expr2))\n",
    "\n",
    "print(\"r2-latex:\", latex(r2))"
   ]
  },
  {
   "cell_type": "code",
   "execution_count": 137,
   "id": "89e3d8ea",
   "metadata": {
    "ExecuteTime": {
     "end_time": "2022-03-30T02:28:16.505069Z",
     "start_time": "2022-03-30T02:28:16.498789Z"
    },
    "scrolled": true
   },
   "outputs": [
    {
     "data": {
      "text/plain": [
       "cos(4⋅x)   1\n",
       "──────── + ─\n",
       "   2       2"
      ]
     },
     "execution_count": 137,
     "metadata": {},
     "output_type": "execute_result"
    }
   ],
   "source": [
    "r2"
   ]
  },
  {
   "cell_type": "markdown",
   "id": "f6fc595a",
   "metadata": {},
   "source": [
    "### 三角形的展开-expand_trig()\n",
    "\n",
    "使用expand_trig()可以展开三角函数，同样反三角函数也可以。"
   ]
  },
  {
   "cell_type": "code",
   "execution_count": 140,
   "id": "a57983ee",
   "metadata": {
    "ExecuteTime": {
     "end_time": "2022-03-30T05:31:44.841370Z",
     "start_time": "2022-03-30T05:31:44.833519Z"
    },
    "scrolled": true
   },
   "outputs": [
    {
     "name": "stdout",
     "output_type": "stream",
     "text": [
      "===========r1==========\n",
      "sin(x)*cos(y) + sin(y)*cos(x)\n",
      "sin(x + y)\n",
      "sin(x)*cos(y) + sin(y)*cos(x)\n",
      "===========r2==========\n",
      "2*tan(x)/(1 - tan(x)**2)\n",
      "tan(2*x)\n",
      "2*tan(x)/(1 - tan(x)**2)\n"
     ]
    }
   ],
   "source": [
    "from sympy import *\n",
    "\n",
    "x = Symbol('x')\n",
    "\n",
    "y = Symbol('y')\n",
    "\n",
    "expr1 = sin(x+y)\n",
    "\n",
    "expr2 = tan(2*x)\n",
    "\n",
    "# 三角形的展开\n",
    "\n",
    "r1 = expand_trig(expr1)\n",
    "\n",
    "r2 = expand_trig(expr2)\n",
    "\n",
    "print(\"===========r1==========\")\n",
    "\n",
    "print(r1)\n",
    "\n",
    "print((expr1))\n",
    "\n",
    "print((r1))\n",
    "\n",
    "print(\"===========r2==========\")\n",
    "\n",
    "print(r2)\n",
    "\n",
    "print((expr2))\n",
    "\n",
    "print((r2))"
   ]
  },
  {
   "cell_type": "markdown",
   "id": "504e893b",
   "metadata": {},
   "source": [
    "### 指数函数简化\n",
    "\n",
    "#### 指数的合并一-powsimp()\n",
    "\n",
    "powsimp()主要用于同底数或者同指数"
   ]
  },
  {
   "cell_type": "code",
   "execution_count": 42,
   "id": "fbc40d69",
   "metadata": {
    "ExecuteTime": {
     "end_time": "2022-03-29T14:44:23.959991Z",
     "start_time": "2022-03-29T14:44:23.953052Z"
    }
   },
   "outputs": [
    {
     "data": {
      "text/latex": [
       "$\\displaystyle x^{6}$"
      ],
      "text/plain": [
       "x**6"
      ]
     },
     "execution_count": 42,
     "metadata": {},
     "output_type": "execute_result"
    }
   ],
   "source": [
    "#powsimp() 指数化简\n",
    "powsimp(x**2*x**4)"
   ]
  },
  {
   "cell_type": "code",
   "execution_count": 151,
   "id": "27bb21e2",
   "metadata": {
    "ExecuteTime": {
     "end_time": "2022-03-30T10:26:13.810627Z",
     "start_time": "2022-03-30T10:26:13.799252Z"
    }
   },
   "outputs": [
    {
     "data": {
      "text/plain": [
       " 5\n",
       "x "
      ]
     },
     "execution_count": 151,
     "metadata": {},
     "output_type": "execute_result"
    }
   ],
   "source": [
    "from sympy import *\n",
    "\n",
    "# 假设 x与y 是正值， a 是真实的值\n",
    "\n",
    "x = Symbol('x', positive=True)\n",
    "\n",
    "y = Symbol('y', positive=True)\n",
    "\n",
    "a = Symbol('a', real=True)\n",
    "\n",
    "expr1 = x**2*x**3\n",
    "\n",
    "expr2 = x**a*y**a\n",
    "expr1"
   ]
  },
  {
   "cell_type": "code",
   "execution_count": 146,
   "id": "1d4e6c22",
   "metadata": {
    "ExecuteTime": {
     "end_time": "2022-03-30T10:22:15.042202Z",
     "start_time": "2022-03-30T10:22:15.023938Z"
    }
   },
   "outputs": [
    {
     "name": "stdout",
     "output_type": "stream",
     "text": [
      "===========r1==========\n"
     ]
    },
    {
     "data": {
      "image/png": "[encoded data removed]",
      "text/latex": [
       "$\\displaystyle x^{5}$"
      ],
      "text/plain": [
       " 5\n",
       "x "
      ]
     },
     "execution_count": 146,
     "metadata": {},
     "output_type": "execute_result"
    }
   ],
   "source": [
    "# 进行指数的合并，如果不符合，则不进行简化\n",
    "\n",
    "r1 = powsimp(expr1)\n",
    "\n",
    "r2 = powsimp(expr2)\n",
    "\n",
    "print(\"===========r1==========\")\n",
    "init_printing(use_latex=True)\n",
    "r1"
   ]
  },
  {
   "cell_type": "code",
   "execution_count": 148,
   "id": "0d13df14",
   "metadata": {
    "ExecuteTime": {
     "end_time": "2022-03-30T10:22:30.275469Z",
     "start_time": "2022-03-30T10:22:30.263565Z"
    }
   },
   "outputs": [
    {
     "data": {
      "image/png": "[encoded data removed]",
      "text/latex": [
       "$\\displaystyle x^{5}$"
      ],
      "text/plain": [
       " 5\n",
       "x "
      ]
     },
     "execution_count": 148,
     "metadata": {},
     "output_type": "execute_result"
    }
   ],
   "source": [
    "expr1"
   ]
  },
  {
   "cell_type": "code",
   "execution_count": 143,
   "id": "e6f7d49c",
   "metadata": {
    "ExecuteTime": {
     "end_time": "2022-03-30T10:21:14.026985Z",
     "start_time": "2022-03-30T10:21:14.006646Z"
    },
    "scrolled": true
   },
   "outputs": [
    {
     "name": "stdout",
     "output_type": "stream",
     "text": [
      "===========r1==========\n",
      "x**5\n",
      "x**5\n",
      "x**5\n",
      "===========r2==========\n",
      "(x*y)**a\n",
      "x**a*y**a\n",
      "(x*y)**a\n"
     ]
    }
   ],
   "source": [
    "print(\"===========r2==========\")\n",
    "\n",
    "print(r2)\n",
    "\n",
    "print((expr2))\n",
    "\n",
    "print((r2))"
   ]
  },
  {
   "cell_type": "markdown",
   "id": "fa71af5c",
   "metadata": {},
   "source": [
    "#### 指数的合并二-powdenest()\n",
    "\n",
    "powdenest()主要用于只有一个底数的不同指数。\n",
    "\n"
   ]
  },
  {
   "cell_type": "code",
   "execution_count": 152,
   "id": "818e270b",
   "metadata": {
    "ExecuteTime": {
     "end_time": "2022-03-30T10:29:14.089217Z",
     "start_time": "2022-03-30T10:29:14.058663Z"
    },
    "scrolled": true
   },
   "outputs": [
    {
     "name": "stdout",
     "output_type": "stream",
     "text": [
      "===========r1==========\n",
      "x**(a*b)\n",
      "x^{a b}\n",
      "x^{a b}\n",
      "===========r2==========\n",
      "x**(2*a*b)\n",
      "x^{2 a b}\n",
      "x^{2 a b}\n"
     ]
    }
   ],
   "source": [
    "from sympy import *\n",
    "\n",
    "# 假设 x与y 是正值， a 是真实的值\n",
    "\n",
    "x = Symbol('x', positive=True)\n",
    "\n",
    "y = Symbol('y', positive=True)\n",
    "\n",
    "a = Symbol('a', real=True)\n",
    "\n",
    "b = Symbol('b', real=True)\n",
    "\n",
    "expr1 = (x**a)**b\n",
    "\n",
    "expr2 = (((x**2)**a)**b)\n",
    "\n",
    "# 进行指数的合并，如果不符合，则不进行简化\n",
    "\n",
    "r1 = powdenest(expr1)\n",
    "\n",
    "r2 = powdenest(expr2)\n",
    "\n",
    "print(\"===========r1==========\")\n",
    "\n",
    "print(r1)\n",
    "\n",
    "print(latex(expr1))\n",
    "\n",
    "print(latex(r1))\n",
    "\n",
    "print(\"===========r2==========\")\n",
    "\n",
    "print(r2)\n",
    "\n",
    "print(latex(expr2))\n",
    "\n",
    "print(latex(r2))"
   ]
  },
  {
   "cell_type": "markdown",
   "id": "df3c9b6a",
   "metadata": {},
   "source": [
    "#### 指数的展开：expand_power_exp\\expand_power_base\n",
    "\n",
    "expand_power_exp()用于同底数的展开\n",
    "\n",
    "expand_power_base()用于同指数的展开"
   ]
  },
  {
   "cell_type": "code",
   "execution_count": 155,
   "id": "ffce5691",
   "metadata": {
    "ExecuteTime": {
     "end_time": "2022-03-30T12:25:31.504402Z",
     "start_time": "2022-03-30T12:25:31.428840Z"
    }
   },
   "outputs": [
    {
     "name": "stdout",
     "output_type": "stream",
     "text": [
      "===========r1==========\n",
      "x**a*x**b\n",
      "x^{a + b}\n",
      "x^{a} x^{b}\n",
      "===========r2==========\n",
      "x**a*y**a\n",
      "\\left(x y\\right)^{a}\n",
      "x^{a} y^{a}\n"
     ]
    }
   ],
   "source": [
    "from sympy import *\n",
    "\n",
    "# 假设 x与y 是正值， a 是真实的值\n",
    "\n",
    "x = Symbol('x', positive=True)\n",
    "\n",
    "y = Symbol('y', positive=True)\n",
    "\n",
    "a = Symbol('a', real=True)\n",
    "\n",
    "b = Symbol('b', real=True)\n",
    "\n",
    "expr1 = x**(a+b)\n",
    "\n",
    "expr2 = (x*y)**a\n",
    "\n",
    "# 进行指数的展开\n",
    "\n",
    "# 底数相同展开\n",
    "\n",
    "r1 = expand_power_exp(expr1)\n",
    "\n",
    "# 指数相同展开\n",
    "\n",
    "r2 = expand_power_base(expr2)\n",
    "\n",
    "print(\"===========r1==========\")\n",
    "\n",
    "print(r1)\n",
    "\n",
    "print(latex(expr1))\n",
    "\n",
    "print(latex(r1))\n",
    "\n",
    "print(\"===========r2==========\")\n",
    "\n",
    "print(r2)\n",
    "\n",
    "print(latex(expr2))\n",
    "\n",
    "print(latex(r2))"
   ]
  },
  {
   "cell_type": "markdown",
   "id": "1781cb9f",
   "metadata": {},
   "source": [
    "### 对数函数的简化\n",
    "\n",
    "#### 对数的简化-logcombine()\n",
    "\n",
    "logcombine()用于合并对数"
   ]
  },
  {
   "cell_type": "code",
   "execution_count": 161,
   "id": "226a4a98",
   "metadata": {
    "ExecuteTime": {
     "end_time": "2022-03-30T12:49:55.633823Z",
     "start_time": "2022-03-30T12:49:55.554755Z"
    },
    "scrolled": true
   },
   "outputs": [
    {
     "name": "stdout",
     "output_type": "stream",
     "text": [
      "log(x*y)\n",
      "log(x/y)\n",
      "log(x**n)\n"
     ]
    }
   ],
   "source": [
    "from sympy import *\n",
    "\n",
    "# 假设 x与y 是正值， a 是真实的值\n",
    "\n",
    "x = Symbol('x', positive=True)\n",
    "\n",
    "y = Symbol('y', positive=True)\n",
    "\n",
    "n = Symbol('n', real=True)\n",
    "\n",
    "expr1 = log(x) + log(y)\n",
    "\n",
    "expr2 = log(x) - log(y)\n",
    "\n",
    "expr3 = n*log(x)\n",
    "\n",
    "# 对于对数的展开\n",
    "\n",
    "r1 = logcombine(expr1)\n",
    "\n",
    "r2 = logcombine(expr2)\n",
    "\n",
    "r3 = logcombine(expr3)\n",
    "\n",
    "print(r1)\n",
    "\n",
    "print(r2)\n",
    "\n",
    "print(r3)"
   ]
  },
  {
   "cell_type": "markdown",
   "id": "8f00ff69",
   "metadata": {},
   "source": [
    "#### 对数的展开-expand_log()\n",
    "\n",
    "expand_log()用于对数的展开"
   ]
  },
  {
   "cell_type": "code",
   "execution_count": 162,
   "id": "dfb16bec",
   "metadata": {
    "ExecuteTime": {
     "end_time": "2022-03-30T12:51:33.638740Z",
     "start_time": "2022-03-30T12:51:33.612569Z"
    },
    "scrolled": true
   },
   "outputs": [
    {
     "name": "stdout",
     "output_type": "stream",
     "text": [
      "log(x) + log(y)\n",
      "log(x) - log(y)\n",
      "n*log(x)\n"
     ]
    }
   ],
   "source": [
    "from sympy import *\n",
    "\n",
    "# 假设 x与y 是正值， a 是真实的值\n",
    "\n",
    "x = Symbol('x', positive=True)\n",
    "\n",
    "y = Symbol('y', positive=True)\n",
    "\n",
    "n = Symbol('n', real=True)\n",
    "\n",
    "expr1 = log(x*y)\n",
    "\n",
    "expr2 = log(x/y)\n",
    "\n",
    "expr3 = log(x**n)\n",
    "\n",
    "# 对于对数的展开\n",
    "\n",
    "r1 = expand_log(expr1)\n",
    "\n",
    "r2 = expand_log(expr2)\n",
    "\n",
    "r3 = expand_log(expr3)\n",
    "\n",
    "print(r1)\n",
    "\n",
    "print(r2)\n",
    "\n",
    "print(r3)"
   ]
  },
  {
   "cell_type": "markdown",
   "id": "2d10657a",
   "metadata": {},
   "source": [
    "### 其他函数的简化\n",
    "\n",
    "阶乘与排列组合-factorial()\\binomial()\n",
    "\n",
    "factorial()用于求阶乘\n",
    "\n",
    "binomial()用于求排列组合"
   ]
  },
  {
   "cell_type": "code",
   "execution_count": 163,
   "id": "79c7c1cd",
   "metadata": {
    "ExecuteTime": {
     "end_time": "2022-03-30T12:52:57.368380Z",
     "start_time": "2022-03-30T12:52:57.352555Z"
    }
   },
   "outputs": [
    {
     "name": "stdout",
     "output_type": "stream",
     "text": [
      "6\n",
      "factorial(n)\n",
      "6\n"
     ]
    }
   ],
   "source": [
    "from sympy import *\n",
    "\n",
    "n = Symbol(\"n\")\n",
    "\n",
    "# 求阶乘\n",
    "\n",
    "r1 = factorial(3)\n",
    "\n",
    "r2 = factorial(n)\n",
    "\n",
    "print(r1)\n",
    "\n",
    "print(r2)\n",
    "\n",
    "# 排列组合\n",
    "\n",
    "print(binomial(4, 2))"
   ]
  },
  {
   "cell_type": "markdown",
   "id": "cff62456",
   "metadata": {
    "ExecuteTime": {
     "end_time": "2022-03-29T14:16:05.190823Z",
     "start_time": "2022-03-29T14:16:05.181954Z"
    }
   },
   "source": [
    "## 多项式展开 expand 与提取公因式 factor"
   ]
  },
  {
   "cell_type": "code",
   "execution_count": 5,
   "id": "7b368d04",
   "metadata": {
    "ExecuteTime": {
     "end_time": "2022-03-29T12:03:33.307292Z",
     "start_time": "2022-03-29T12:03:33.281292Z"
    }
   },
   "outputs": [
    {
     "name": "stdout",
     "output_type": "stream",
     "text": [
      "sec3——多项式展开\n",
      "lamda**2 - 10*lamda\n"
     ]
    }
   ],
   "source": [
    "from sympy import *\n",
    "print('sec3——多项式展开')\n",
    "lamda = Symbol('lamda')\n",
    "re = (5-lamda)**2-25\n",
    "print(expand(re))"
   ]
  },
  {
   "cell_type": "code",
   "execution_count": 94,
   "id": "b0b17176",
   "metadata": {
    "ExecuteTime": {
     "end_time": "2022-03-30T01:31:40.791489Z",
     "start_time": "2022-03-30T01:31:40.778524Z"
    }
   },
   "outputs": [
    {
     "name": "stdout",
     "output_type": "stream",
     "text": [
      "sec4——多项式合并\n",
      "(x + 1)**2\n"
     ]
    }
   ],
   "source": [
    "from sympy import *\n",
    "print('sec4——多项式合并')\n",
    "x = Symbol('x')\n",
    "print(factor(x**2+2*x+1))"
   ]
  },
  {
   "cell_type": "code",
   "execution_count": 21,
   "id": "43965723",
   "metadata": {
    "ExecuteTime": {
     "end_time": "2022-03-29T14:16:54.571554Z",
     "start_time": "2022-03-29T14:16:54.559193Z"
    }
   },
   "outputs": [
    {
     "name": "stdout",
     "output_type": "stream",
     "text": [
      "2*x**3 + x**2\n",
      "(x + 1)**2\n"
     ]
    }
   ],
   "source": [
    "x = sympy.Symbol('x')\n",
    "#公式展开用expand方法\n",
    "f = (1+2*x)*x**2\n",
    "ff = sympy.expand(f)\n",
    "print(ff)\n",
    "#公式折叠用factor方法\n",
    "f  = x**2+1+2*x\n",
    "ff = sympy.factor(f)\n",
    "print(ff)"
   ]
  },
  {
   "cell_type": "code",
   "execution_count": 95,
   "id": "73c4220c",
   "metadata": {
    "ExecuteTime": {
     "end_time": "2022-03-30T01:32:56.070804Z",
     "start_time": "2022-03-30T01:32:56.056342Z"
    }
   },
   "outputs": [
    {
     "data": {
      "text/latex": [
       "$\\displaystyle \\left(x + y\\right)^{2}$"
      ],
      "text/plain": [
       "       2\n",
       "(x + y) "
      ]
     },
     "execution_count": 95,
     "metadata": {},
     "output_type": "execute_result"
    }
   ],
   "source": [
    "expr = (x+y)**2\n",
    "expr"
   ]
  },
  {
   "cell_type": "code",
   "execution_count": 96,
   "id": "7c566183",
   "metadata": {
    "ExecuteTime": {
     "end_time": "2022-03-30T01:33:10.606865Z",
     "start_time": "2022-03-30T01:33:10.599315Z"
    }
   },
   "outputs": [
    {
     "data": {
      "text/latex": [
       "$\\displaystyle x^{2} + 2 x y + y^{2}$"
      ],
      "text/plain": [
       " 2            2\n",
       "x  + 2⋅x⋅y + y "
      ]
     },
     "execution_count": 96,
     "metadata": {},
     "output_type": "execute_result"
    }
   ],
   "source": [
    "expand(expr)"
   ]
  },
  {
   "cell_type": "code",
   "execution_count": 97,
   "id": "2421b484",
   "metadata": {
    "ExecuteTime": {
     "end_time": "2022-03-30T01:33:26.084007Z",
     "start_time": "2022-03-30T01:33:26.073442Z"
    }
   },
   "outputs": [
    {
     "data": {
      "text/latex": [
       "$\\displaystyle \\left(x + y\\right)^{2}$"
      ],
      "text/plain": [
       "       2\n",
       "(x + y) "
      ]
     },
     "execution_count": 97,
     "metadata": {},
     "output_type": "execute_result"
    }
   ],
   "source": [
    "factor(expr)"
   ]
  },
  {
   "cell_type": "markdown",
   "id": "6ee9e6f7",
   "metadata": {},
   "source": [
    "## 公式分离 apart 与合并 together（分数的分离与合并）"
   ]
  },
  {
   "cell_type": "code",
   "execution_count": 22,
   "id": "8670fd8f",
   "metadata": {
    "ExecuteTime": {
     "end_time": "2022-03-29T14:17:31.616346Z",
     "start_time": "2022-03-29T14:17:31.601380Z"
    }
   },
   "outputs": [
    {
     "name": "stdout",
     "output_type": "stream",
     "text": [
      "1 + 1/(x + 1)\n",
      "(x + y)/(x*y)\n"
     ]
    }
   ],
   "source": [
    "x=sympy.Symbol('x')\n",
    "y=sympy.Symbol('y')\n",
    "#公式展开用apart方法,和expand区别不是很大，常用于分数进行分离\n",
    "f=(x+2)/(x+1)\n",
    "ff=sympy.apart(f)\n",
    "print(ff)\n",
    "#公式折叠用tegother方法\n",
    "f=(1/x+1/y)\n",
    "ff=sympy.together(f)\n",
    "print(ff)"
   ]
  },
  {
   "cell_type": "code",
   "execution_count": 14,
   "id": "4789cb31",
   "metadata": {
    "ExecuteTime": {
     "end_time": "2022-03-29T13:46:15.346062Z",
     "start_time": "2022-03-29T13:46:15.071188Z"
    }
   },
   "outputs": [
    {
     "name": "stdout",
     "output_type": "stream",
     "text": [
      "sec7——合并同类项\n",
      "1.0*x**2 + 2*x + 1\n"
     ]
    }
   ],
   "source": [
    "import sympy\n",
    "print('sec7——合并同类项')\n",
    "x=sympy.Symbol('x')\n",
    "f=(2/3)*x**2+(1/3)*x**2+x+x+1\n",
    "print(sympy.simplify(f))"
   ]
  },
  {
   "cell_type": "markdown",
   "id": "c02aac90",
   "metadata": {},
   "source": [
    "分式展开-apart() 原本只有一项的分式表达式，展开为多项的分式表达式。"
   ]
  },
  {
   "cell_type": "code",
   "execution_count": null,
   "id": "71270e05",
   "metadata": {
    "ExecuteTime": {
     "end_time": "2022-03-30T02:21:27.593035Z",
     "start_time": "2022-03-30T02:21:27.545856Z"
    }
   },
   "outputs": [],
   "source": [
    "from sympy import *\n",
    "\n",
    "x = Symbol('x')\n",
    "\n",
    "expr1 = (4*x**3 + 21*x**2 + 10*x + 12)/(x**4 + 5*x**3 + 5*x**2 + 4*x)\n",
    "\n",
    "# 对于分式进行展开\n",
    "\n",
    "r1 = apart(expr1)\n",
    "\n",
    "print(r1)"
   ]
  },
  {
   "cell_type": "code",
   "execution_count": 129,
   "id": "0bf1d637",
   "metadata": {
    "ExecuteTime": {
     "end_time": "2022-03-30T02:21:27.593035Z",
     "start_time": "2022-03-30T02:21:27.545856Z"
    }
   },
   "outputs": [
    {
     "name": "stdout",
     "output_type": "stream",
     "text": [
      "(2*x - 1)/(x**2 + x + 1) - 1/(x + 4) + 3/x\n",
      "\\frac{2 x - 1}{x^{2} + x + 1} - \\frac{1}{x + 4} + \\frac{3}{x}\n"
     ]
    },
    {
     "data": {
      "text/latex": [
       "$\\displaystyle \\frac{4 x^{3} + 21 x^{2} + 10 x + 12}{x^{4} + 5 x^{3} + 5 x^{2} + 4 x}$"
      ],
      "text/plain": [
       "   3       2            \n",
       "4⋅x  + 21⋅x  + 10⋅x + 12\n",
       "────────────────────────\n",
       "  4      3      2       \n",
       " x  + 5⋅x  + 5⋅x  + 4⋅x "
      ]
     },
     "execution_count": 129,
     "metadata": {},
     "output_type": "execute_result"
    }
   ],
   "source": [
    "init_printing(use_latex=\"mathjax\")\n",
    "((expr1))"
   ]
  },
  {
   "cell_type": "code",
   "execution_count": 132,
   "id": "c7edfb21",
   "metadata": {
    "ExecuteTime": {
     "end_time": "2022-03-30T02:23:34.209982Z",
     "start_time": "2022-03-30T02:23:34.202105Z"
    }
   },
   "outputs": [
    {
     "data": {
      "text/latex": [
       "$\\displaystyle \\frac{2 x - 1}{x^{2} + x + 1} - \\frac{1}{x + 4} + \\frac{3}{x}$"
      ],
      "text/plain": [
       " 2⋅x - 1       1     3\n",
       "────────── - ───── + ─\n",
       " 2           x + 4   x\n",
       "x  + x + 1            "
      ]
     },
     "execution_count": 132,
     "metadata": {},
     "output_type": "execute_result"
    }
   ],
   "source": [
    "init_printing(use_latex=\"mathjax\")\n",
    "((r1))"
   ]
  },
  {
   "cell_type": "markdown",
   "id": "94637527",
   "metadata": {},
   "source": [
    "## 合并同类项 ceiling\n",
    "\n",
    "对于多项式进行合并同类项"
   ]
  },
  {
   "cell_type": "code",
   "execution_count": 123,
   "id": "23088a0b",
   "metadata": {
    "ExecuteTime": {
     "end_time": "2022-03-30T02:14:33.531367Z",
     "start_time": "2022-03-30T02:14:33.521130Z"
    }
   },
   "outputs": [
    {
     "name": "stdout",
     "output_type": "stream",
     "text": [
      "ceiling(x**3 - x**2*z + 2*x**2 + x*y + x) - 3\n",
      "ceiling(2*x**3 - 4*x**2 + 6*x) - 5\n",
      "\\left\\lceil{x^{3} - x^{2} z + 2 x^{2} + x y + x}\\right\\rceil - 3\n",
      "\\left\\lceil{2 x^{3} - 4 x^{2} + 6 x}\\right\\rceil - 5\n"
     ]
    }
   ],
   "source": [
    "from sympy import *\n",
    "\n",
    "x = Symbol('x')\n",
    "\n",
    "y = Symbol('y')\n",
    "\n",
    "z = Symbol('z')\n",
    "\n",
    "expr1 = x*y + x - 3 + 2*x**2 - z*x**2 + x**3\n",
    "\n",
    "expr2 = x**3+x*2-3*x**2+x**3-x**2+x*4-5\n",
    "\n",
    "# 合并同类项\n",
    "\n",
    "r1 = ceiling(expr1)\n",
    "\n",
    "r2 = ceiling(expr2)\n",
    "\n",
    "print(r1)\n",
    "\n",
    "print(r2)\n",
    "# init_printing(use_latex=\"mathjax\")\n",
    "print(latex(r1))\n",
    "\n",
    "print(latex(r2))"
   ]
  },
  {
   "cell_type": "markdown",
   "id": "b22ad01a",
   "metadata": {},
   "source": [
    "$\\left\\lceil{x^{3} - x^{2} z + 2 x^{2} + x y + x}\\right\\rceil - 3$"
   ]
  },
  {
   "cell_type": "markdown",
   "id": "cba8911f",
   "metadata": {},
   "source": [
    "## 简化分式-cancel\n",
    "\n",
    "cancle既有约分又有简化的作用\n"
   ]
  },
  {
   "cell_type": "code",
   "execution_count": 124,
   "id": "f19f4e64",
   "metadata": {
    "ExecuteTime": {
     "end_time": "2022-03-30T02:18:07.731099Z",
     "start_time": "2022-03-30T02:18:07.657941Z"
    }
   },
   "outputs": [
    {
     "name": "stdout",
     "output_type": "stream",
     "text": [
      "结果:r1 (x + 1)/x\n",
      "结果:r2 (3*x**2 - 2*x - 8)/(2*x**2 - 8*x)\n",
      "r1的表达式与结果:\n",
      "\\frac{x^{2} + 2 x + 1}{x^{2} + x}\n",
      "\\frac{x + 1}{x}\n",
      "\n",
      "r2的表达式与结果:\n",
      "\\frac{\\frac{3 x}{2} - 2}{x - 4} + \\frac{1}{x}\n",
      "\\frac{3 x^{2} - 2 x - 8}{2 x^{2} - 8 x}\n"
     ]
    }
   ],
   "source": [
    "from sympy import *\n",
    "\n",
    "x = Symbol('x')\n",
    "\n",
    "expr1 = (x**2 + 2*x + 1)/(x**2 + x)\n",
    "\n",
    "expr2 = 1/x + (3*x/2 - 2)/(x - 4)\n",
    "\n",
    "# 约分消去分式的公因数\n",
    "\n",
    "r1 = cancel(expr1)\n",
    "\n",
    "# 简化分式\n",
    "\n",
    "r2 = cancel(expr2)\n",
    "\n",
    "# 结果\n",
    "\n",
    "print(\"结果:r1\", r1)\n",
    "\n",
    "print(\"结果:r2\", r2)\n",
    "\n",
    "# r1的表达式与结果\n",
    "\n",
    "print(\"r1的表达式与结果:\")\n",
    "\n",
    "print(latex((x**2 + 2*x + 1)/(x**2 + x)))\n",
    "\n",
    "print(latex(r1))\n",
    "\n",
    "# r2的表达式与结果\n",
    "\n",
    "print(\"\\nr2的表达式与结果:\")\n",
    "\n",
    "print(latex(1/x + (3*x/2 - 2)/(x - 4)))\n",
    "\n",
    "print(latex(r2))"
   ]
  },
  {
   "cell_type": "markdown",
   "id": "1400d438",
   "metadata": {},
   "source": [
    "## 求导 diff\n",
    "\n",
    "diff(你的函数，自变量，求导的次数），默认1次"
   ]
  },
  {
   "cell_type": "code",
   "execution_count": 10,
   "id": "830aa379",
   "metadata": {
    "ExecuteTime": {
     "end_time": "2022-03-29T13:45:02.123589Z",
     "start_time": "2022-03-29T13:45:02.111583Z"
    }
   },
   "outputs": [
    {
     "name": "stdout",
     "output_type": "stream",
     "text": [
      "求多项式导数\n",
      "8*x**3 + 3\n"
     ]
    }
   ],
   "source": [
    "import sympy\n",
    "\n",
    "# 求多项式导数\n",
    "print(\"求多项式导数\")\n",
    "x=sympy.Symbol('x')\n",
    "f1=2*x**4+3*x+6\n",
    "f1_=sympy.diff(f1,x)\n",
    "print(f1_)"
   ]
  },
  {
   "cell_type": "code",
   "execution_count": 11,
   "id": "88bea3a2",
   "metadata": {
    "ExecuteTime": {
     "end_time": "2022-03-29T13:45:17.496848Z",
     "start_time": "2022-03-29T13:45:17.490427Z"
    }
   },
   "outputs": [
    {
     "name": "stdout",
     "output_type": "stream",
     "text": [
      "求sin(x)导数\n",
      "cos(x)\n"
     ]
    }
   ],
   "source": [
    "# 求sin(x)导数\n",
    "print(\"求sin(x)导数\")\n",
    "f2=sympy.sin(x)\n",
    "f2_=sympy.diff(f2)\n",
    "print(f2_)"
   ]
  },
  {
   "cell_type": "code",
   "execution_count": 12,
   "id": "619e1ad7",
   "metadata": {
    "ExecuteTime": {
     "end_time": "2022-03-29T13:45:35.870355Z",
     "start_time": "2022-03-29T13:45:35.829201Z"
    },
    "scrolled": true
   },
   "outputs": [
    {
     "name": "stdout",
     "output_type": "stream",
     "text": [
      "求偏导\n",
      "4*x\n",
      "12*y**3 + 2\n"
     ]
    }
   ],
   "source": [
    "# 求偏导\n",
    "print(\"求偏导\")\n",
    "y=sympy.Symbol('y')\n",
    "f3=2*x**2+3*y**4+2*y\n",
    "f3_x=sympy.diff(f3,x)\n",
    "f3_y=sympy.diff(f3,y)\n",
    "\n",
    "print(f3_x)\n",
    "print(f3_y)"
   ]
  },
  {
   "cell_type": "code",
   "execution_count": 56,
   "id": "d07dcf3f",
   "metadata": {
    "ExecuteTime": {
     "end_time": "2022-03-29T15:05:25.514510Z",
     "start_time": "2022-03-29T15:05:25.491523Z"
    }
   },
   "outputs": [
    {
     "name": "stdout",
     "output_type": "stream",
     "text": [
      "2*cos(2*x)\n",
      "2*cos(2*x)\n",
      "2*cos(2*x)\n",
      "-x*y*sin(x*y) + cos(x*y)\n"
     ]
    }
   ],
   "source": [
    "print(diff(sin(2*x),x,1))\n",
    "print(sin(2*x).diff(x))\n",
    "print(diff(sin(2*x),x))\n",
    "print(diff(sin(x*y),x,1,y,1)) # 先对x求一次导，再对y求一次倒\n"
   ]
  },
  {
   "cell_type": "markdown",
   "id": "7e6b4945",
   "metadata": {},
   "source": [
    "### 一阶求导-diff()\n",
    "\n",
    "语法是：diff(expr,x)"
   ]
  },
  {
   "cell_type": "code",
   "execution_count": 164,
   "id": "93236119",
   "metadata": {
    "ExecuteTime": {
     "end_time": "2022-03-30T12:54:58.333854Z",
     "start_time": "2022-03-30T12:54:58.272111Z"
    }
   },
   "outputs": [
    {
     "name": "stdout",
     "output_type": "stream",
     "text": [
      "r1: -sin(x)\n",
      "r2: 2*x*exp(x**2)\n"
     ]
    }
   ],
   "source": [
    "from sympy import *\n",
    "\n",
    "# 初始化\n",
    "\n",
    "x = symbols('x')\n",
    "\n",
    "# 表达式\n",
    "\n",
    "expr1 = cos(x)\n",
    "\n",
    "expr2 = exp(x**2)\n",
    "\n",
    "# 求导\n",
    "\n",
    "r1 = diff(expr1, x)\n",
    "\n",
    "r2 = diff(expr2, x)\n",
    "\n",
    "print(\"r1:\", r1)\n",
    "\n",
    "print(\"r2:\", r2)"
   ]
  },
  {
   "cell_type": "markdown",
   "id": "e6f00f34",
   "metadata": {},
   "source": [
    "### 多阶求导-diff()\n",
    "\n",
    "多阶求导同样的使用diff()，其有两种形式\n",
    "\n",
    "带参数中，添加几个x,就是对x的几次求导。diff(expr, x, x,x……)\n",
    "\n",
    "用数字来控制所求的阶数：diff(expr, x, n)"
   ]
  },
  {
   "cell_type": "code",
   "execution_count": 165,
   "id": "34cc8a60",
   "metadata": {
    "ExecuteTime": {
     "end_time": "2022-03-30T12:56:27.855314Z",
     "start_time": "2022-03-30T12:56:27.837239Z"
    },
    "scrolled": true
   },
   "outputs": [
    {
     "name": "stdout",
     "output_type": "stream",
     "text": [
      "==============================\n",
      "4*x**3\n",
      "12*x**2\n",
      "24*x\n",
      "==============================\n",
      "4*x**3\n",
      "12*x**2\n",
      "24*x\n"
     ]
    }
   ],
   "source": [
    "from sympy import *\n",
    "\n",
    "# 初始化\n",
    "\n",
    "x = symbols('x')\n",
    "\n",
    "# 表达式\n",
    "\n",
    "expr1 = x**4\n",
    "\n",
    "# 第一种形式多阶求导\n",
    "\n",
    "r1 = diff(expr1, x)\n",
    "\n",
    "r2 = diff(expr1, x, x)\n",
    "\n",
    "r3 = diff(expr1, x, x, x)\n",
    "\n",
    "print(\"=\"*30)\n",
    "\n",
    "print(r1)\n",
    "\n",
    "print(r2)\n",
    "\n",
    "print(r3)\n",
    "\n",
    "# 第二种形式多阶求导\n",
    "\n",
    "r4 = diff(expr1, x, 1)\n",
    "\n",
    "r5 = diff(expr1, x, 2)\n",
    "\n",
    "r6 = diff(expr1, x, 3)\n",
    "\n",
    "print(\"=\"*30)\n",
    "\n",
    "print(r4)\n",
    "\n",
    "print(r5)\n",
    "\n",
    "print(r6)"
   ]
  },
  {
   "cell_type": "markdown",
   "id": "0dc7f80d",
   "metadata": {},
   "source": [
    "### 求偏导数-diff()\n",
    "\n",
    "diff()也可以单独对一个变量求导，这便是偏导数"
   ]
  },
  {
   "cell_type": "code",
   "execution_count": 166,
   "id": "f5392913",
   "metadata": {
    "ExecuteTime": {
     "end_time": "2022-03-30T12:57:30.524317Z",
     "start_time": "2022-03-30T12:57:30.375984Z"
    }
   },
   "outputs": [
    {
     "name": "stdout",
     "output_type": "stream",
     "text": [
      "r1: x**3*y**2*(x**3*y**3*z**3 + 14*x**2*y**2*z**2 + 52*x*y*z + 48)*exp(x*y*z)\n",
      "r2: x**3*y**2*(x**3*y**3*z**3 + 14*x**2*y**2*z**2 + 52*x*y*z + 48)*exp(x*y*z)\n",
      "x^{3} y^{2} \\left(x^{3} y^{3} z^{3} + 14 x^{2} y^{2} z^{2} + 52 x y z + 48\\right) e^{x y z}\n",
      "x^{3} y^{2} \\left(x^{3} y^{3} z^{3} + 14 x^{2} y^{2} z^{2} + 52 x y z + 48\\right) e^{x y z}\n"
     ]
    }
   ],
   "source": [
    "from sympy import *\n",
    "\n",
    "# 初始化\n",
    "\n",
    "x, y, z = symbols('x y z')\n",
    "\n",
    "# 表达式\n",
    "\n",
    "expr1 = exp(x*y*z)\n",
    "\n",
    "# 求导\n",
    "\n",
    "r1 = diff(expr1, x, y, y, z, z, z, z)\n",
    "\n",
    "r2 = diff(expr1, x, 1, y, 2, z, 4)\n",
    "\n",
    "print(\"r1:\", r1)\n",
    "\n",
    "print(\"r2:\", r2)\n",
    "\n",
    "print(latex(r1))\n",
    "\n",
    "print(latex(r2))"
   ]
  },
  {
   "cell_type": "markdown",
   "id": "052dd4f3",
   "metadata": {},
   "source": [
    "## 求极限 limit\n",
    "\n",
    "limit可以作为普通的带入化简求值方法\n",
    "\n",
    "求极限使用limit()，其有下两种使用方法：\n",
    "\n",
    "趋进某个点的极限：limit(expr, var, doit)\n",
    "\n",
    "从侧边趋进某个值的极限：limit(expr, var,doit, \"+\") (左侧趋进同理)\n",
    "\n",
    "注：sympy里，不可以使用无穷的趋进。"
   ]
  },
  {
   "cell_type": "code",
   "execution_count": 168,
   "id": "96047ce5",
   "metadata": {
    "ExecuteTime": {
     "end_time": "2022-03-30T13:01:44.310192Z",
     "start_time": "2022-03-30T13:01:44.292861Z"
    }
   },
   "outputs": [
    {
     "name": "stdout",
     "output_type": "stream",
     "text": [
      "1\n",
      "oo\n",
      "-oo\n"
     ]
    }
   ],
   "source": [
    "from sympy import *\n",
    "\n",
    "# 初始化\n",
    "\n",
    "x = symbols('x')\n",
    "\n",
    "# 表达式\n",
    "\n",
    "expr1 = sin(x)/x\n",
    "\n",
    "expr2 = 1/x\n",
    "\n",
    "# 求趋于某个值的极限\n",
    "\n",
    "r1 = limit(expr1, x, 0)\n",
    "\n",
    "# 正向趋进\n",
    "\n",
    "r2 = limit(expr2, x, 0, '+')\n",
    "\n",
    "# 负向趋进\n",
    "\n",
    "r3 = limit(expr2, x, 0, '-')\n",
    "\n",
    "print(r1)\n",
    "\n",
    "print(r2)\n",
    "\n",
    "print(r3)"
   ]
  },
  {
   "cell_type": "code",
   "execution_count": 47,
   "id": "e4a23839",
   "metadata": {
    "ExecuteTime": {
     "end_time": "2022-03-29T14:50:18.364971Z",
     "start_time": "2022-03-29T14:50:18.341849Z"
    }
   },
   "outputs": [
    {
     "data": {
      "text/latex": [
       "$\\displaystyle a^{2} + 1$"
      ],
      "text/plain": [
       "a**2 + 1"
      ]
     },
     "execution_count": 47,
     "metadata": {},
     "output_type": "execute_result"
    }
   ],
   "source": [
    "f = (x+1)**2 + 1\n",
    "limit(f,x,a-1)"
   ]
  },
  {
   "cell_type": "code",
   "execution_count": 48,
   "id": "0e0765bf",
   "metadata": {
    "ExecuteTime": {
     "end_time": "2022-03-29T14:50:41.302833Z",
     "start_time": "2022-03-29T14:50:41.291509Z"
    }
   },
   "outputs": [
    {
     "data": {
      "text/latex": [
       "$\\displaystyle 5$"
      ],
      "text/plain": [
       "5"
      ]
     },
     "execution_count": 48,
     "metadata": {},
     "output_type": "execute_result"
    }
   ],
   "source": [
    "f = (x+1)**2 + 1\n",
    "limit(f,x,1)"
   ]
  },
  {
   "cell_type": "markdown",
   "id": "7b4321b4",
   "metadata": {},
   "source": [
    "$$\n",
    "\\lim _{x \\rightarrow 0} \\frac{\\sin x}{x}\n",
    "$$"
   ]
  },
  {
   "cell_type": "code",
   "execution_count": 49,
   "id": "27c5724e",
   "metadata": {
    "ExecuteTime": {
     "end_time": "2022-03-29T14:51:42.827403Z",
     "start_time": "2022-03-29T14:51:42.820481Z"
    }
   },
   "outputs": [
    {
     "data": {
      "text/latex": [
       "$\\displaystyle 1$"
      ],
      "text/plain": [
       "1"
      ]
     },
     "execution_count": 49,
     "metadata": {},
     "output_type": "execute_result"
    }
   ],
   "source": [
    "f = sin(x)/x\n",
    "limit(f,x,0)"
   ]
  },
  {
   "cell_type": "code",
   "execution_count": 50,
   "id": "03b2bd11",
   "metadata": {
    "ExecuteTime": {
     "end_time": "2022-03-29T14:51:59.540469Z",
     "start_time": "2022-03-29T14:51:59.532251Z"
    }
   },
   "outputs": [
    {
     "data": {
      "text/latex": [
       "$\\displaystyle 1$"
      ],
      "text/plain": [
       "1"
      ]
     },
     "execution_count": 50,
     "metadata": {},
     "output_type": "execute_result"
    }
   ],
   "source": [
    "#从负方向逼近，dir可以取'+' 或者 '-'\n",
    "limit(f,x,0,dir='-')"
   ]
  },
  {
   "cell_type": "markdown",
   "id": "4235cf0d",
   "metadata": {
    "ExecuteTime": {
     "end_time": "2022-03-29T14:53:56.518158Z",
     "start_time": "2022-03-29T14:53:56.511198Z"
    }
   },
   "source": [
    "设 $ f(x)=\\cos x $ \n",
    "\n",
    "则 \n",
    "$\\lim _{\\Delta x \\rightarrow 0} \\frac{f(a)-f(a-\\Delta x)}{\\Delta x}=?$"
   ]
  },
  {
   "cell_type": "code",
   "execution_count": 54,
   "id": "e8c5536f",
   "metadata": {
    "ExecuteTime": {
     "end_time": "2022-03-29T14:54:24.069749Z",
     "start_time": "2022-03-29T14:54:23.561891Z"
    }
   },
   "outputs": [
    {
     "data": {
      "text/latex": [
       "$\\displaystyle - \\sin{\\left(a \\right)}$"
      ],
      "text/plain": [
       "-sin(a)"
      ]
     },
     "execution_count": 54,
     "metadata": {},
     "output_type": "execute_result"
    }
   ],
   "source": [
    "dx = symbols('dx')\n",
    "f = cos(x)\n",
    "f1 = (limit(f,x,a)-limit(f,x,a-dx))/dx\n",
    "limit(f1,dx,0)"
   ]
  },
  {
   "cell_type": "markdown",
   "id": "9a0d5583",
   "metadata": {},
   "source": [
    "$$\n",
    "\\lim _{n \\rightarrow \\infty}\\left(\\frac{n+3}{n+2}\\right)^{n}\n",
    "$$"
   ]
  },
  {
   "cell_type": "code",
   "execution_count": 55,
   "id": "ce3340d5",
   "metadata": {
    "ExecuteTime": {
     "end_time": "2022-03-29T14:55:12.325009Z",
     "start_time": "2022-03-29T14:55:12.252223Z"
    },
    "scrolled": true
   },
   "outputs": [
    {
     "name": "stdout",
     "output_type": "stream",
     "text": [
      "E\n",
      "2.718281828459045\n",
      "<class 'sympy.core.numbers.Exp1'>\n"
     ]
    }
   ],
   "source": [
    "f = ((x+3)/(x+2))**x\n",
    "print(limit(f,x,oo))\n",
    "print(float(E))\n",
    "print(type(E))"
   ]
  },
  {
   "cell_type": "markdown",
   "id": "09548010",
   "metadata": {},
   "source": [
    "## 级数展开-series()\n",
    "\n",
    "级数展开请使用：series(expr, x0, xn),使用.removeO()去除尾数。"
   ]
  },
  {
   "cell_type": "code",
   "execution_count": 169,
   "id": "7815db79",
   "metadata": {
    "ExecuteTime": {
     "end_time": "2022-03-30T13:02:51.881143Z",
     "start_time": "2022-03-30T13:02:51.158115Z"
    }
   },
   "outputs": [
    {
     "name": "stdout",
     "output_type": "stream",
     "text": [
      "1 + x + x**2/2 - x**4/8 - x**5/15 + O(x**6)\n",
      "-x**5/15 - x**4/8 + x**2/2 + x + 1\n"
     ]
    }
   ],
   "source": [
    "from sympy import *\n",
    "\n",
    "# 初始化\n",
    "\n",
    "x = symbols('x')\n",
    "\n",
    "# 表达式\n",
    "\n",
    "expr1 = exp(sin(x))\n",
    "\n",
    "# 级数展开\n",
    "\n",
    "r1 = expr1.series(x, 0, 6)\n",
    "\n",
    "# 去除尾数\n",
    "\n",
    "r2 = expr1.series(x, 0, 6).removeO()\n",
    "\n",
    "print(r1)\n",
    "\n",
    "print(r2)"
   ]
  },
  {
   "cell_type": "markdown",
   "id": "1f7d4c21",
   "metadata": {},
   "source": [
    "## 求积分-integrate()\n",
    "\n",
    "求积分有三种形式，并且都用的是integrate()方法\n",
    "\n",
    "求不定积分：integrate(expr, var)\n",
    "\n",
    "求定积分：integrate(expr, (var, min, max))\n",
    "\n",
    "求多重积分：integrate(expr, (var1, min, max),(var2,min,max))"
   ]
  },
  {
   "cell_type": "code",
   "execution_count": 167,
   "id": "49e8e6a7",
   "metadata": {
    "ExecuteTime": {
     "end_time": "2022-03-30T12:59:24.889393Z",
     "start_time": "2022-03-30T12:59:24.475963Z"
    }
   },
   "outputs": [
    {
     "name": "stdout",
     "output_type": "stream",
     "text": [
      "r1: sin(x)\n",
      "r2: 1\n",
      "r3: pi\n"
     ]
    }
   ],
   "source": [
    "from sympy import *\n",
    "\n",
    "# 初始化\n",
    "\n",
    "x, y = symbols('x y')\n",
    "\n",
    "# 表达式\n",
    "\n",
    "expr1 = cos(x)\n",
    "\n",
    "expr2 = exp(-x)\n",
    "\n",
    "expr3 = exp(-x**2-y**2)\n",
    "\n",
    "# 求不定积分\n",
    "\n",
    "r1 = integrate(expr1, x)\n",
    "\n",
    "# 求定积分\n",
    "\n",
    "r2 = integrate(expr2, (x, 0, oo))\n",
    "\n",
    "# 求多重积分\n",
    "\n",
    "r3 = integrate(expr3, (x, -oo, oo), (y, -oo, oo))\n",
    "\n",
    "print(\"r1:\", r1)\n",
    "\n",
    "print(\"r2:\", r2)\n",
    "\n",
    "print(\"r3:\", r3)"
   ]
  },
  {
   "cell_type": "markdown",
   "id": "d49f0095",
   "metadata": {},
   "source": [
    "### 定积分"
   ]
  },
  {
   "cell_type": "code",
   "execution_count": 13,
   "id": "be9357bd",
   "metadata": {
    "ExecuteTime": {
     "end_time": "2022-03-29T13:46:12.148130Z",
     "start_time": "2022-03-29T13:46:12.012083Z"
    }
   },
   "outputs": [
    {
     "name": "stdout",
     "output_type": "stream",
     "text": [
      "sec6——求定积分\n",
      "1\n"
     ]
    }
   ],
   "source": [
    "import sympy\n",
    "print('sec6——求定积分')\n",
    "x=sympy.Symbol('x')\n",
    "f=2*x\n",
    "result=sympy.integrate(f,(x,0,1))\n",
    "print(result)"
   ]
  },
  {
   "cell_type": "markdown",
   "id": "548ba53a",
   "metadata": {},
   "source": [
    "$$\n",
    "\\int_{0}^{1} 2 x d x\n",
    "$$"
   ]
  },
  {
   "cell_type": "code",
   "execution_count": 23,
   "id": "6025fcf0",
   "metadata": {
    "ExecuteTime": {
     "end_time": "2022-03-29T14:27:03.992533Z",
     "start_time": "2022-03-29T14:27:03.978710Z"
    }
   },
   "outputs": [
    {
     "name": "stdout",
     "output_type": "stream",
     "text": [
      "1\n"
     ]
    }
   ],
   "source": [
    "#求定积分用 integrate方法\n",
    "x=sympy.Symbol('x')\n",
    "f=2*x\n",
    "#参数传入 函数，积分变量和范围\n",
    "result=sympy.integrate(f,(x,0,1))\n",
    "print(result)"
   ]
  },
  {
   "cell_type": "markdown",
   "id": "2ce4eeeb",
   "metadata": {},
   "source": [
    "还有一种使用 SciPy 的方法"
   ]
  },
  {
   "cell_type": "code",
   "execution_count": 24,
   "id": "8507d91c",
   "metadata": {
    "ExecuteTime": {
     "end_time": "2022-03-29T14:34:27.449501Z",
     "start_time": "2022-03-29T14:34:26.474181Z"
    }
   },
   "outputs": [
    {
     "name": "stdout",
     "output_type": "stream",
     "text": [
      "2.5\n"
     ]
    }
   ],
   "source": [
    "from scipy import integrate\n",
    "def f(x):\n",
    "    return x + 1\n",
    "v, err = integrate.quad(f, 1, 2)# err为误差\n",
    "print(v)"
   ]
  },
  {
   "cell_type": "markdown",
   "id": "8a8977f4",
   "metadata": {},
   "source": [
    "$$f(x)=\\int_{0}^{x} 2 x d x$$\n",
    "\n",
    "$$\n",
    "\\int_{0}^{3} f(x) d x\n",
    "$$"
   ]
  },
  {
   "cell_type": "code",
   "execution_count": 25,
   "id": "d06e8f77",
   "metadata": {
    "ExecuteTime": {
     "end_time": "2022-03-29T14:37:31.097797Z",
     "start_time": "2022-03-29T14:37:31.075106Z"
    }
   },
   "outputs": [
    {
     "name": "stdout",
     "output_type": "stream",
     "text": [
      "9\n"
     ]
    }
   ],
   "source": [
    "#求多重积分，先求里面的积分，再求外面的\n",
    "x,t=sympy.symbols('x t')\n",
    "f1=2*t\n",
    "f2=sympy.integrate(f1,(t,0,x))\n",
    "result=sympy.integrate(f2,(x,0,3))\n",
    "print(result)"
   ]
  },
  {
   "cell_type": "markdown",
   "id": "877773a6",
   "metadata": {},
   "source": [
    "### 求不定积分"
   ]
  },
  {
   "cell_type": "markdown",
   "id": "e1513691",
   "metadata": {},
   "source": [
    "$$\n",
    "\\int\\left(e^{x}+2 x\\right) d x\n",
    "$$\n",
    "\n",
    "的结果是 \n",
    "\n",
    "$$\n",
    "e^{x}+x^{2}\n",
    "$$"
   ]
  },
  {
   "cell_type": "code",
   "execution_count": 26,
   "id": "f9c76b5c",
   "metadata": {
    "ExecuteTime": {
     "end_time": "2022-03-29T14:40:28.939806Z",
     "start_time": "2022-03-29T14:40:28.849442Z"
    }
   },
   "outputs": [
    {
     "name": "stdout",
     "output_type": "stream",
     "text": [
      "x**2 + exp(x)\n"
     ]
    }
   ],
   "source": [
    "#求不定积分其实和定积分区别不大\n",
    "x=sympy.Symbol('x')\n",
    "f=(sympy.E**x+2*x)\n",
    "f_=sympy.integrate(f,x)\n",
    "print(f_)"
   ]
  },
  {
   "cell_type": "markdown",
   "id": "b89e49a7",
   "metadata": {},
   "source": [
    "### 二重积分\n",
    "\n",
    "$$\n",
    "\\int_{-3}^{4} \\int_{0}^{1}\\left(\\frac{3}{4} x+2 y\\right) d x d y\n",
    "$$\n"
   ]
  },
  {
   "cell_type": "code",
   "execution_count": 63,
   "id": "0f508f54",
   "metadata": {
    "ExecuteTime": {
     "end_time": "2022-03-29T15:12:04.277127Z",
     "start_time": "2022-03-29T15:12:04.230602Z"
    }
   },
   "outputs": [
    {
     "data": {
      "text/latex": [
       "$\\displaystyle 9.625$"
      ],
      "text/plain": [
       "9.62500000000000"
      ]
     },
     "execution_count": 63,
     "metadata": {},
     "output_type": "execute_result"
    }
   ],
   "source": [
    "f = (3/4)*x + 2*y\n",
    "integrate(f,(x,0,1),(y,-3,4))"
   ]
  },
  {
   "cell_type": "markdown",
   "id": "bab1c35f",
   "metadata": {},
   "source": [
    "### 二重不定积分\n",
    "\n",
    "$$\n",
    "\\int_{-x}^{x} \\int_{0}^{1}\\left(\\frac{3}{4} x+2 y\\right) d x d y\n",
    "$$"
   ]
  },
  {
   "cell_type": "code",
   "execution_count": 64,
   "id": "075f28eb",
   "metadata": {
    "ExecuteTime": {
     "end_time": "2022-03-29T15:12:39.520886Z",
     "start_time": "2022-03-29T15:12:39.487199Z"
    }
   },
   "outputs": [
    {
     "data": {
      "text/latex": [
       "$\\displaystyle 0.75 x$"
      ],
      "text/plain": [
       "0.75*x"
      ]
     },
     "execution_count": 64,
     "metadata": {},
     "output_type": "execute_result"
    }
   ],
   "source": [
    "f = (3/4)*x + 2*y\n",
    "integrate(f,(x,0,1),(y,-x,x))"
   ]
  },
  {
   "cell_type": "markdown",
   "id": "2f5a9f42",
   "metadata": {},
   "source": [
    "## 求和 Sum"
   ]
  },
  {
   "cell_type": "code",
   "execution_count": 101,
   "id": "9ffcb412",
   "metadata": {
    "ExecuteTime": {
     "end_time": "2022-03-30T01:37:03.913312Z",
     "start_time": "2022-03-30T01:37:03.905969Z"
    }
   },
   "outputs": [
    {
     "data": {
      "text/latex": [
       "$\\displaystyle \\sum_{x=1}^{10} \\frac{1}{x^{2} + 2 x}$"
      ],
      "text/plain": [
       "  10          \n",
       " ____         \n",
       " ╲            \n",
       "  ╲      1    \n",
       "   ╲  ────────\n",
       "   ╱   2      \n",
       "  ╱   x  + 2⋅x\n",
       " ╱            \n",
       " ‾‾‾‾         \n",
       "x = 1         "
      ]
     },
     "execution_count": 101,
     "metadata": {},
     "output_type": "execute_result"
    }
   ],
   "source": [
    "expr = Sum(1/(x**2 + 2*x),(x,1,10))\n",
    "expr"
   ]
  },
  {
   "cell_type": "code",
   "execution_count": 102,
   "id": "9710086e",
   "metadata": {
    "ExecuteTime": {
     "end_time": "2022-03-30T01:37:39.013903Z",
     "start_time": "2022-03-30T01:37:38.997663Z"
    }
   },
   "outputs": [
    {
     "data": {
      "text/latex": [
       "$\\displaystyle \\frac{175}{264}$"
      ],
      "text/plain": [
       "175\n",
       "───\n",
       "264"
      ]
     },
     "execution_count": 102,
     "metadata": {},
     "output_type": "execute_result"
    }
   ],
   "source": [
    "expr.doit()"
   ]
  },
  {
   "cell_type": "markdown",
   "id": "94897d30",
   "metadata": {},
   "source": [
    "## 累乘 Product"
   ]
  },
  {
   "cell_type": "code",
   "execution_count": 103,
   "id": "48d197b4",
   "metadata": {
    "ExecuteTime": {
     "end_time": "2022-03-30T01:39:00.215767Z",
     "start_time": "2022-03-30T01:39:00.203588Z"
    }
   },
   "outputs": [
    {
     "data": {
      "text/latex": [
       "$\\displaystyle \\prod_{x=1}^{10} \\frac{1}{x^{2} + 2 x}$"
      ],
      "text/plain": [
       "    10             \n",
       "─┬──────┬─         \n",
       " │      │     1    \n",
       " │      │  ────────\n",
       " │      │   2      \n",
       " │      │  x  + 2⋅x\n",
       " │      │          \n",
       "  x = 1            "
      ]
     },
     "execution_count": 103,
     "metadata": {},
     "output_type": "execute_result"
    }
   ],
   "source": [
    "expr = Product(1/(x**2 + 2*x),(x,1,10))\n",
    "expr"
   ]
  },
  {
   "cell_type": "code",
   "execution_count": 104,
   "id": "3fdced7e",
   "metadata": {
    "ExecuteTime": {
     "end_time": "2022-03-30T01:39:23.891334Z",
     "start_time": "2022-03-30T01:39:23.879501Z"
    }
   },
   "outputs": [
    {
     "data": {
      "text/latex": [
       "$\\displaystyle \\frac{1}{869100503040000}$"
      ],
      "text/plain": [
       "1/869100503040000"
      ]
     },
     "execution_count": 104,
     "metadata": {},
     "output_type": "execute_result"
    }
   ],
   "source": [
    "expr.doit()"
   ]
  },
  {
   "cell_type": "markdown",
   "id": "fdd00d22",
   "metadata": {},
   "source": [
    "## 数学符号补充\n",
    "\n",
    "### 虚数"
   ]
  },
  {
   "cell_type": "code",
   "execution_count": 77,
   "id": "5286a996",
   "metadata": {
    "ExecuteTime": {
     "end_time": "2022-03-30T01:20:01.731558Z",
     "start_time": "2022-03-30T01:20:01.723701Z"
    }
   },
   "outputs": [
    {
     "data": {
      "text/latex": [
       "$\\displaystyle i$"
      ],
      "text/plain": [
       "ⅈ"
      ]
     },
     "execution_count": 77,
     "metadata": {},
     "output_type": "execute_result"
    }
   ],
   "source": [
    "# 数学符号\n",
    "# 虚数单位i\n",
    "sympy.I"
   ]
  },
  {
   "cell_type": "markdown",
   "id": "37d2f9f8",
   "metadata": {},
   "source": [
    "### 自然数底"
   ]
  },
  {
   "cell_type": "code",
   "execution_count": 78,
   "id": "5cddf49d",
   "metadata": {
    "ExecuteTime": {
     "end_time": "2022-03-30T01:20:04.460296Z",
     "start_time": "2022-03-30T01:20:04.448514Z"
    }
   },
   "outputs": [
    {
     "data": {
      "text/latex": [
       "$\\displaystyle e$"
      ],
      "text/plain": [
       "ℯ"
      ]
     },
     "execution_count": 78,
     "metadata": {},
     "output_type": "execute_result"
    }
   ],
   "source": [
    "# 自然对数e\n",
    "sympy.E"
   ]
  },
  {
   "cell_type": "markdown",
   "id": "938e3a45",
   "metadata": {},
   "source": [
    "### 无穷大"
   ]
  },
  {
   "cell_type": "code",
   "execution_count": 79,
   "id": "648c8a33",
   "metadata": {
    "ExecuteTime": {
     "end_time": "2022-03-30T01:20:10.663952Z",
     "start_time": "2022-03-30T01:20:10.659068Z"
    }
   },
   "outputs": [
    {
     "data": {
      "text/latex": [
       "$\\displaystyle \\infty$"
      ],
      "text/plain": [
       "∞"
      ]
     },
     "execution_count": 79,
     "metadata": {},
     "output_type": "execute_result"
    }
   ],
   "source": [
    "# 无穷大\n",
    "sympy.oo"
   ]
  },
  {
   "cell_type": "markdown",
   "id": "52360f76",
   "metadata": {},
   "source": [
    "### 圆周率"
   ]
  },
  {
   "cell_type": "code",
   "execution_count": 80,
   "id": "9b4be423",
   "metadata": {
    "ExecuteTime": {
     "end_time": "2022-03-30T01:20:51.816017Z",
     "start_time": "2022-03-30T01:20:51.810673Z"
    }
   },
   "outputs": [
    {
     "data": {
      "text/latex": [
       "$\\displaystyle \\pi$"
      ],
      "text/plain": [
       "π"
      ]
     },
     "execution_count": 80,
     "metadata": {},
     "output_type": "execute_result"
    }
   ],
   "source": [
    "# 圆周率\n",
    "sympy.pi"
   ]
  },
  {
   "cell_type": "markdown",
   "id": "cef52aca",
   "metadata": {},
   "source": [
    "### n 次方根"
   ]
  },
  {
   "cell_type": "code",
   "execution_count": 31,
   "id": "3dd990e6",
   "metadata": {
    "ExecuteTime": {
     "end_time": "2022-03-29T14:42:24.403899Z",
     "start_time": "2022-03-29T14:42:24.390256Z"
    }
   },
   "outputs": [
    {
     "data": {
      "text/latex": [
       "$\\displaystyle 2$"
      ],
      "text/plain": [
       "2"
      ]
     },
     "execution_count": 31,
     "metadata": {},
     "output_type": "execute_result"
    }
   ],
   "source": [
    "# 求n次方根\n",
    "sympy.root(8,3)"
   ]
  },
  {
   "cell_type": "markdown",
   "id": "2b787287",
   "metadata": {},
   "source": [
    "### 求对数"
   ]
  },
  {
   "cell_type": "code",
   "execution_count": 81,
   "id": "2c4c1d21",
   "metadata": {
    "ExecuteTime": {
     "end_time": "2022-03-30T01:21:34.406261Z",
     "start_time": "2022-03-30T01:21:34.398081Z"
    }
   },
   "outputs": [
    {
     "data": {
      "text/latex": [
       "$\\displaystyle 10$"
      ],
      "text/plain": [
       "10"
      ]
     },
     "execution_count": 81,
     "metadata": {},
     "output_type": "execute_result"
    }
   ],
   "source": [
    "# 求对数\n",
    "sympy.log(1024,2)"
   ]
  },
  {
   "cell_type": "markdown",
   "id": "ca4c5579",
   "metadata": {},
   "source": [
    "### 阶乘"
   ]
  },
  {
   "cell_type": "code",
   "execution_count": 82,
   "id": "adcb4b68",
   "metadata": {
    "ExecuteTime": {
     "end_time": "2022-03-30T01:21:51.666212Z",
     "start_time": "2022-03-30T01:21:51.660113Z"
    }
   },
   "outputs": [
    {
     "data": {
      "text/latex": [
       "$\\displaystyle 24$"
      ],
      "text/plain": [
       "24"
      ]
     },
     "execution_count": 82,
     "metadata": {},
     "output_type": "execute_result"
    }
   ],
   "source": [
    "# 求阶乘\n",
    "sympy.factorial(4)"
   ]
  },
  {
   "cell_type": "markdown",
   "id": "f1ffa070",
   "metadata": {},
   "source": [
    "### 三角函数"
   ]
  },
  {
   "cell_type": "code",
   "execution_count": 35,
   "id": "7d8e256e",
   "metadata": {
    "ExecuteTime": {
     "end_time": "2022-03-29T14:42:50.377418Z",
     "start_time": "2022-03-29T14:42:50.369033Z"
    }
   },
   "outputs": [
    {
     "data": {
      "text/latex": [
       "$\\displaystyle 0$"
      ],
      "text/plain": [
       "0"
      ]
     },
     "execution_count": 35,
     "metadata": {},
     "output_type": "execute_result"
    }
   ],
   "source": [
    "# 三角函数\n",
    "sympy.sin(sympy.pi)"
   ]
  },
  {
   "cell_type": "code",
   "execution_count": 36,
   "id": "a1a8d010",
   "metadata": {
    "ExecuteTime": {
     "end_time": "2022-03-29T14:42:51.725911Z",
     "start_time": "2022-03-29T14:42:51.718906Z"
    }
   },
   "outputs": [
    {
     "data": {
      "text/latex": [
       "$\\displaystyle 1$"
      ],
      "text/plain": [
       "1"
      ]
     },
     "execution_count": 36,
     "metadata": {},
     "output_type": "execute_result"
    }
   ],
   "source": [
    "sympy.tan(sympy.pi/4)"
   ]
  },
  {
   "cell_type": "code",
   "execution_count": 37,
   "id": "4dd0d4bc",
   "metadata": {
    "ExecuteTime": {
     "end_time": "2022-03-29T14:42:52.571689Z",
     "start_time": "2022-03-29T14:42:52.563280Z"
    }
   },
   "outputs": [
    {
     "data": {
      "text/latex": [
       "$\\displaystyle 0$"
      ],
      "text/plain": [
       "0"
      ]
     },
     "execution_count": 37,
     "metadata": {},
     "output_type": "execute_result"
    }
   ],
   "source": [
    "sympy.cos(sympy.pi/2)"
   ]
  },
  {
   "cell_type": "markdown",
   "id": "ef27f635",
   "metadata": {},
   "source": [
    "### 有理数（分数）"
   ]
  },
  {
   "cell_type": "code",
   "execution_count": 83,
   "id": "7577ad96",
   "metadata": {
    "ExecuteTime": {
     "end_time": "2022-03-30T01:23:25.667866Z",
     "start_time": "2022-03-30T01:23:25.661159Z"
    }
   },
   "outputs": [
    {
     "data": {
      "text/latex": [
       "$\\displaystyle \\frac{1}{2}$"
      ],
      "text/plain": [
       "1/2"
      ]
     },
     "execution_count": 83,
     "metadata": {},
     "output_type": "execute_result"
    }
   ],
   "source": [
    "Rational(1,2)"
   ]
  },
  {
   "cell_type": "code",
   "execution_count": 84,
   "id": "9d69ec64",
   "metadata": {
    "ExecuteTime": {
     "end_time": "2022-03-30T01:23:58.017897Z",
     "start_time": "2022-03-30T01:23:58.006494Z"
    }
   },
   "outputs": [
    {
     "data": {
      "text/latex": [
       "$\\displaystyle \\frac{5}{6}$"
      ],
      "text/plain": [
       "5/6"
      ]
     },
     "execution_count": 84,
     "metadata": {},
     "output_type": "execute_result"
    }
   ],
   "source": [
    "Rational(1,2) + Rational(1,3)"
   ]
  },
  {
   "cell_type": "code",
   "execution_count": null,
   "id": "26f8ba57",
   "metadata": {},
   "outputs": [],
   "source": []
  }
 ],
 "metadata": {
  "kernelspec": {
   "display_name": "Python 3 (ipykernel)",
   "language": "python",
   "name": "python3"
  },
  "language_info": {
   "codemirror_mode": {
    "name": "ipython",
    "version": 3
   },
   "file_extension": ".py",
   "mimetype": "text/x-python",
   "name": "python",
   "nbconvert_exporter": "python",
   "pygments_lexer": "ipython3",
   "version": "3.9.7"
  },
  "latex_envs": {
   "LaTeX_envs_menu_present": true,
   "autoclose": false,
   "autocomplete": true,
   "bibliofile": "biblio.bib",
   "cite_by": "apalike",
   "current_citInitial": 1,
   "eqLabelWithNumbers": true,
   "eqNumInitial": 1,
   "hotkeys": {
    "equation": "Ctrl-E",
    "itemize": "Ctrl-I"
   },
   "labels_anchors": false,
   "latex_user_defs": false,
   "report_style_numbering": false,
   "user_envs_cfg": false
  },
  "toc": {
   "base_numbering": 1,
   "nav_menu": {},
   "number_sections": false,
   "sideBar": true,
   "skip_h1_title": false,
   "title_cell": "Table of Contents",
   "title_sidebar": "Contents",
   "toc_cell": false,
   "toc_position": {},
   "toc_section_display": true,
   "toc_window_display": true
  },
  "varInspector": {
   "cols": {
    "lenName": 16,
    "lenType": 16,
    "lenVar": 40
   },
   "kernels_config": {
    "python": {
     "delete_cmd_postfix": "",
     "delete_cmd_prefix": "del ",
     "library": "var_list.py",
     "varRefreshCmd": "print(var_dic_list())"
    },
    "r": {
     "delete_cmd_postfix": ") ",
     "delete_cmd_prefix": "rm(",
     "library": "var_list.r",
     "varRefreshCmd": "cat(var_dic_list()) "
    }
   },
   "types_to_exclude": [
    "module",
    "function",
    "builtin_function_or_method",
    "instance",
    "_Feature"
   ],
   "window_display": false
  }
 },
 "nbformat": 4,
 "nbformat_minor": 5
}
